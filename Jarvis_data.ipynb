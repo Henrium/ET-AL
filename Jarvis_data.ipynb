{
 "cells": [
  {
   "cell_type": "code",
   "execution_count": 5,
   "metadata": {},
   "outputs": [],
   "source": [
    "import pandas as pd\n",
    "import numpy as np\n",
    "\n",
    "import matplotlib.pyplot as plt\n",
    "data = pd.read_pickle('D:/PSED/Jarvis_cfid/jarvis_cfid.pkl')\n",
    "data_w_modulus = data.copy()\n",
    "\n",
    "data_w_modulus.drop(data_w_modulus[data_w_modulus['bulk_modulus_kv'] == 'na'].index, inplace=True)\n",
    "data_w_modulus.drop(data_w_modulus[data_w_modulus['shear_modulus_gv'] == 'na'].index, inplace=True)\n",
    "data_w_modulus.drop(data_w_modulus[data_w_modulus['bulk_modulus_kv'] <= 0].index, inplace=True)\n",
    "data_w_modulus.drop(data_w_modulus[data_w_modulus['shear_modulus_gv'] <= 0].index, inplace=True)"
   ]
  },
  {
   "cell_type": "code",
   "execution_count": 7,
   "metadata": {},
   "outputs": [],
   "source": [
    "data_downselect = data_w_modulus.copy()\n",
    "for idx in data_downselect.index:\n",
    "    if not set(data_downselect.atoms[idx]['elements']).isdisjoint({'H', 'F', 'Cl', 'Br', 'I', 'At', 'He', 'Ne', 'Ar', 'Kr', 'Xe', 'Rn',\n",
    "    'La', 'Ce', 'Pr', 'Nd', 'Pm', 'Sm', 'Eu', 'Gd', 'Tb', 'Dy', 'Ho', 'Er', 'Tm', 'Yb', 'Lu', 'Tc',\n",
    "    'Ac', 'Th', 'Pa', 'U', 'Np', 'Pu', 'Am', 'Cm', 'Bk', 'Cf', 'Es', 'Fm', 'Md', 'No', 'Lr'}):\n",
    "        data_downselect.drop(idx, inplace=True)"
   ]
  },
  {
   "cell_type": "code",
   "execution_count": 8,
   "metadata": {},
   "outputs": [
    {
     "data": {
      "text/plain": [
       "(10898, 64)"
      ]
     },
     "execution_count": 8,
     "metadata": {},
     "output_type": "execute_result"
    }
   ],
   "source": [
    "data_downselect.shape"
   ]
  },
  {
   "cell_type": "code",
   "execution_count": 3,
   "metadata": {},
   "outputs": [],
   "source": [
    "eles = set()\n",
    "for idx in data_downselect.index:\n",
    "    eles = eles.union(set(data_downselect.atoms[idx]['elements'])) "
   ]
  },
  {
   "cell_type": "code",
   "execution_count": 5,
   "metadata": {},
   "outputs": [
    {
     "name": "stdout",
     "output_type": "stream",
     "text": [
      "['Rb', 'V', 'Ru', 'S', 'K', 'B', 'Cd', 'Nb', 'Hf', 'Pb', 'Sr', 'Ga', 'Cr', 'Rh', 'Ir', 'Co', 'Ni', 'Mg', 'Pd', 'Se', 'Pt', 'Mo', 'Y', 'Hg', 'Ti', 'O', 'Cu', 'In', 'Na', 'Te', 'Ta', 'Zr', 'Tl', 'N', 'Li', 'Zn', 'Fe', 'Sc', 'Re', 'As', 'P', 'Be', 'W', 'Si', 'Ba', 'Ge', 'Ca', 'Ag', 'Os', 'Au', 'Al', 'Cs', 'Sn', 'Mn', 'Bi', 'C', 'Sb']\n"
     ]
    }
   ],
   "source": [
    "print(list(eles))"
   ]
  },
  {
   "cell_type": "code",
   "execution_count": 9,
   "metadata": {},
   "outputs": [],
   "source": [
    "data_downselect.to_pickle('D:/PSED/Jarvis_cfid/data_downselect.pkl')"
   ]
  },
  {
   "cell_type": "code",
   "execution_count": 13,
   "metadata": {},
   "outputs": [
    {
     "data": {
      "text/plain": [
       "1060"
      ]
     },
     "execution_count": 13,
     "metadata": {},
     "output_type": "execute_result"
    }
   ],
   "source": [
    "np.sum((data_downselect['crys'] == 'tetragonal') & (data_downselect['formation_energy_peratom'] > 0))"
   ]
  },
  {
   "cell_type": "code",
   "execution_count": 7,
   "metadata": {},
   "outputs": [],
   "source": [
    "cgcnn_features = pd.read_pickle('D:/PSED/Jarvis_cfid/cgcnn_features_sorted.pkl')\n",
    "cgcnn_features.sort_index()\n",
    "cgcnn_features_down = cgcnn_features.loc[data_downselect.index]"
   ]
  },
  {
   "cell_type": "markdown",
   "metadata": {},
   "source": [
    "## Read Jarvis CFID data"
   ]
  },
  {
   "cell_type": "code",
   "execution_count": null,
   "metadata": {},
   "outputs": [],
   "source": [
    "import os, json\n",
    "import pandas as pd\n",
    "import numpy as np\n",
    "import pickle\n",
    "\n",
    "f = open(os.path.join('D:\\\\', 'PSED', 'Jarvis_cfid', 'd3-5-16-2021.json'), 'r')\n",
    "data3d = json.load(f)\n",
    "f.close()\n",
    "\n",
    "df = pd.DataFrame(data3d)\n",
    "\n",
    "df.to_pickle('D:/PSED/jarvis_cfid.pkl')"
   ]
  },
  {
   "cell_type": "markdown",
   "metadata": {},
   "source": [
    "Super hard family. Discarded."
   ]
  },
  {
   "cell_type": "code",
   "execution_count": 24,
   "metadata": {},
   "outputs": [],
   "source": [
    "superhard = data_w_modulus.copy()\n",
    "for idx in superhard.index:\n",
    "    if not set(superhard.atoms[idx]['elements']).issubset({'B', 'C', 'N', 'O', 'Si', 'Cr', 'Nb', 'Mo', 'Ta', 'W', 'Re'}):  # Cr, 'Al', 'Ti', \n",
    "        superhard.drop(idx, inplace=True)"
   ]
  },
  {
   "cell_type": "code",
   "execution_count": 2,
   "metadata": {},
   "outputs": [],
   "source": [
    "superhard = pd.read_pickle('D:/PSED/Jarvis_cfid/superhard.pkl')"
   ]
  },
  {
   "cell_type": "markdown",
   "metadata": {},
   "source": [
    "## CGCNN feature extraction."
   ]
  },
  {
   "cell_type": "markdown",
   "metadata": {},
   "source": [
    "Prepare `id_prop.csv` and `cif` files for CGCNN"
   ]
  },
  {
   "cell_type": "code",
   "execution_count": null,
   "metadata": {},
   "outputs": [],
   "source": [
    "id_prop = pd.DataFrame(index=data_w_modulus.index)\n",
    "id_prop['props'] = data_w_modulus.formation_energy_peratom\n",
    "id_prop.to_csv('id_prop.csv')\n",
    "\n",
    "from jarvis.core.atoms import Atoms\n",
    "for ind in data_w_modulus.index:\n",
    "    Atoms.from_dict(data_w_modulus.atoms[ind]).write_cif('D:/PSED/jarvis_cifs/'+str(ind)+'.cif')"
   ]
  },
  {
   "cell_type": "markdown",
   "metadata": {},
   "source": [
    "Get the graph embeddings of materials with modulus"
   ]
  },
  {
   "cell_type": "code",
   "execution_count": 19,
   "metadata": {},
   "outputs": [],
   "source": [
    "import pandas as pd\n",
    "cgcnn_features = pd.read_pickle('D:/PSED/Jarvis_cfid/cgcnn_features.pkl')\n",
    "cgcnn_features.set_index('cif_id', inplace=True)\n",
    "cgcnn_features.index = cgcnn_features.index.astype('int')\n",
    "cgcnn_features.index.name = None\n",
    "\n",
    "cgcnn_features = cgcnn_features.sort_index()\n",
    "cgcnn_features.to_pickle('cgcnn_features_sorted.pkl')"
   ]
  },
  {
   "cell_type": "markdown",
   "metadata": {},
   "source": []
  },
  {
   "cell_type": "code",
   "execution_count": null,
   "metadata": {},
   "outputs": [],
   "source": []
  }
 ],
 "metadata": {
  "kernelspec": {
   "display_name": "Python 3.9.7 ('base')",
   "language": "python",
   "name": "python3"
  },
  "language_info": {
   "codemirror_mode": {
    "name": "ipython",
    "version": 3
   },
   "file_extension": ".py",
   "mimetype": "text/x-python",
   "name": "python",
   "nbconvert_exporter": "python",
   "pygments_lexer": "ipython3",
   "version": "3.9.7"
  },
  "orig_nbformat": 4,
  "vscode": {
   "interpreter": {
    "hash": "6f66a74a78460c2692b274b48ce17214f5eb55d57c3113b770dcb94e4d958ddf"
   }
  }
 },
 "nbformat": 4,
 "nbformat_minor": 2
}
