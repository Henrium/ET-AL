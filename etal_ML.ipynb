{
 "cells": [
  {
   "cell_type": "markdown",
   "metadata": {},
   "source": [
    "## Dataset preparation"
   ]
  },
  {
   "cell_type": "code",
   "execution_count": 1,
   "metadata": {},
   "outputs": [],
   "source": [
    "import numpy as np\n",
    "import pandas as pd\n",
    "results_path = 'D:/PSED/Results/Jarvis_term_1000_cleaned/'\n",
    "data_downselect = pd.read_pickle('D:/PSED/Jarvis_cfid/data_downselect.pkl')\n",
    "# cgcnn_features_all = pd.read_pickle('D:/PSED/Jarvis_cfid/cgcnn_features_sorted.pkl').feature\n",
    "descriptors_all = pd.read_pickle('D:/PSED/Jarvis_features.pkl').drop(columns=['Compound'])\n",
    "descriptors = descriptors_all.drop(columns=descriptors_all.columns[np.where(descriptors_all.var() == 0)])\n",
    "\n",
    "# cgcnn_features_test = pd.Series([np.asarray(row) for row in cgcnn_features], index=data_downselect.index)"
   ]
  },
  {
   "cell_type": "code",
   "execution_count": 2,
   "metadata": {},
   "outputs": [],
   "source": [
    "data_l = pd.read_pickle(results_path + 'data_l.pkl')\n",
    "data_test = pd.read_pickle(results_path + 'data_test.pkl')\n",
    "sample_path = np.load(results_path + 'sample_path.npy').astype(int)\n",
    "samples = sample_path[sample_path != 0]\n",
    "data_u = data_downselect.drop(index=data_l.index.union(data_test.index), inplace=False)\n",
    "\n",
    "samples_etal = data_downselect.loc[samples]\n",
    "samples_rand = data_u.sample(n=samples.shape[0], random_state=42)\n",
    "data_l_etal = pd.concat([data_l, samples_etal])\n",
    "data_l_rand = pd.concat([data_l, samples_rand])"
   ]
  },
  {
   "cell_type": "code",
   "execution_count": 3,
   "metadata": {},
   "outputs": [],
   "source": [
    "x_etal= descriptors.loc[data_l_etal.index]\n",
    "x_rand = descriptors.loc[data_l_rand.index]\n",
    "x_test = descriptors.loc[data_test.index]\n",
    "\n",
    "B_etal = data_downselect.loc[data_l_etal.index]['bulk_modulus_kv']\n",
    "B_rand = data_downselect.loc[data_l_rand.index]['bulk_modulus_kv']\n",
    "B_test = data_downselect.loc[data_test.index]['bulk_modulus_kv']\n",
    "\n",
    "G_etal = data_downselect.loc[data_l_etal.index]['shear_modulus_gv']\n",
    "G_rand = data_downselect.loc[data_l_rand.index]['shear_modulus_gv']\n",
    "G_test = data_downselect.loc[data_test.index]['shear_modulus_gv']"
   ]
  },
  {
   "cell_type": "markdown",
   "metadata": {},
   "source": [
    "## SVM"
   ]
  },
  {
   "cell_type": "code",
   "execution_count": 170,
   "metadata": {},
   "outputs": [
    {
     "data": {
      "text/plain": [
       "Pipeline(steps=[('standardscaler', StandardScaler()),\n",
       "                ('pca', PCA(n_components=7)), ('svr', SVR(C=10))])"
      ]
     },
     "execution_count": 170,
     "metadata": {},
     "output_type": "execute_result"
    }
   ],
   "source": [
    "from sklearn.svm import SVR\n",
    "from sklearn.pipeline import make_pipeline\n",
    "from sklearn.preprocessing import StandardScaler\n",
    "from sklearn.decomposition import PCA\n",
    "svm_etal = make_pipeline(StandardScaler(), PCA(n_components=7), SVR(C=10, kernel='rbf'))\n",
    "svm_rand = make_pipeline(StandardScaler(), PCA(n_components=7), SVR(C=10, kernel='rbf'))\n",
    "svm_etal.fit(x_etal, B_etal)\n",
    "svm_rand.fit(x_rand, B_rand)"
   ]
  },
  {
   "cell_type": "code",
   "execution_count": 173,
   "metadata": {},
   "outputs": [
    {
     "name": "stdout",
     "output_type": "stream",
     "text": [
      "-0.009732112011510363\n"
     ]
    }
   ],
   "source": [
    "n_rep = 10\n",
    "def train_svr_etal_B(i):\n",
    "    svr_etal_B = make_pipeline(StandardScaler(), PCA(n_components=7), SVR(C=10, kernel='rbf'))\n",
    "    svr_etal_B.fit(x_etal, B_etal)\n",
    "    return svr_etal_B.score(x_test, B_test)\n",
    "\n",
    "def train_svr_rand_B(i):\n",
    "    svr_rand_B = make_pipeline(StandardScaler(), PCA(n_components=7), SVR(C=10, kernel='rbf'))\n",
    "    svr_rand_B.fit(x_rand, B_rand)\n",
    "    return svr_rand_B.score(x_test, B_test)\n",
    "\n",
    "svr_r2_etal_B = Parallel(n_jobs=10)(delayed(train_svr_etal_B)(i) for i in range (n_rep))\n",
    "svr_r2_rand_B = Parallel(n_jobs=10)(delayed(train_svr_rand_B)(i) for i in range (n_rep))\n",
    "print(np.mean(svr_r2_etal_B) - np.mean(svr_r2_rand_B))"
   ]
  },
  {
   "cell_type": "markdown",
   "metadata": {},
   "source": [
    "## AdaBoost"
   ]
  },
  {
   "cell_type": "code",
   "execution_count": 4,
   "metadata": {},
   "outputs": [],
   "source": [
    "from sklearn.ensemble import AdaBoostRegressor\n",
    "n_rep = 30\n",
    "ab_r2_etal_G = np.zeros(n_rep)\n",
    "ab_r2_rand_G = np.zeros(n_rep)\n",
    "for i in range(n_rep):\n",
    "    ab_etal_G = AdaBoostRegressor(random_state=i).fit(x_etal, G_etal)\n",
    "    ab_rand_G = AdaBoostRegressor(random_state=i).fit(x_rand, G_rand)\n",
    "    ab_r2_rand_G[i] = ab_rand_G.score(x_test, G_test)\n",
    "    ab_r2_etal_G[i] = ab_etal_G.score(x_test, G_test)"
   ]
  },
  {
   "cell_type": "code",
   "execution_count": 8,
   "metadata": {},
   "outputs": [],
   "source": [
    "ab_r2_etal_B = np.zeros(n_rep)\n",
    "ab_r2_rand_B = np.zeros(n_rep)\n",
    "for i in range(n_rep):\n",
    "    ab_etal_B = AdaBoostRegressor(random_state=i).fit(x_etal, B_etal)\n",
    "    ab_rand_B = AdaBoostRegressor(random_state=i).fit(x_rand, B_rand)\n",
    "    ab_r2_rand_B[i] = ab_rand_B.score(x_test, B_test)\n",
    "    ab_r2_etal_B[i] = ab_etal_B.score(x_test, B_test)"
   ]
  },
  {
   "cell_type": "code",
   "execution_count": 10,
   "metadata": {},
   "outputs": [
    {
     "data": {
      "text/plain": [
       "array([0.66125935, 0.64095463, 0.66704044, 0.65949265, 0.66705016,\n",
       "       0.66656343, 0.65996321, 0.63976381, 0.65936106, 0.66895742,\n",
       "       0.66010996, 0.66270906, 0.67862342, 0.66036546, 0.66726056,\n",
       "       0.6562295 , 0.67406286, 0.6615827 , 0.68742404, 0.63622619,\n",
       "       0.67173378, 0.66252194, 0.61642583, 0.65979594, 0.67433429,\n",
       "       0.6514084 , 0.67031732, 0.64678042, 0.68991746, 0.66140884])"
      ]
     },
     "execution_count": 10,
     "metadata": {},
     "output_type": "execute_result"
    }
   ],
   "source": [
    "ab_r2_etal_B"
   ]
  },
  {
   "cell_type": "markdown",
   "metadata": {},
   "source": [
    "## Random Forest"
   ]
  },
  {
   "cell_type": "code",
   "execution_count": 79,
   "metadata": {},
   "outputs": [],
   "source": [
    "from sklearn.ensemble import RandomForestRegressor\n",
    "n_rep = 30\n",
    "rf_r2_etal_G = np.zeros(n_rep)\n",
    "rf_r2_rand_G = np.zeros(n_rep)\n",
    "for i in range(n_rep):\n",
    "    rf_etal_G = RandomForestRegressor(random_state=i).fit(x_etal, G_etal)\n",
    "    rf_rand_G = RandomForestRegressor(random_state=i).fit(x_rand, G_rand)\n",
    "    rf_r2_rand_G[i] = rf_rand_G.score(x_test, G_test)\n",
    "    rf_r2_etal_G[i] = rf_etal_G.score(x_test, G_test)"
   ]
  },
  {
   "cell_type": "code",
   "execution_count": 80,
   "metadata": {},
   "outputs": [],
   "source": [
    "rf_r2_etal_B = np.zeros(n_rep)\n",
    "rf_r2_rand_B = np.zeros(n_rep)\n",
    "for i in range(n_rep):\n",
    "    rf_etal_B = RandomForestRegressor(random_state=i).fit(x_etal, B_etal)\n",
    "    rf_rand_B = RandomForestRegressor(random_state=i).fit(x_rand, B_rand)\n",
    "    rf_r2_rand_B[i] = rf_rand_B.score(x_test, B_test)\n",
    "    rf_r2_etal_B[i] = rf_etal_B.score(x_test, B_test)"
   ]
  },
  {
   "cell_type": "markdown",
   "metadata": {},
   "source": [
    "## Gradient Boost"
   ]
  },
  {
   "cell_type": "code",
   "execution_count": 44,
   "metadata": {},
   "outputs": [],
   "source": [
    "from sklearn.ensemble import GradientBoostingRegressor\n",
    "n_rep = 30\n",
    "gb_r2_etal_G = np.zeros(n_rep)\n",
    "gb_r2_rand_G = np.zeros(n_rep)\n",
    "for i in range(n_rep):\n",
    "    gb_etal_G = GradientBoostingRegressor(random_state=i).fit(x_etal, G_etal)\n",
    "    gb_rand_G = GradientBoostingRegressor(random_state=i).fit(x_rand, G_rand)\n",
    "    gb_r2_rand_G[i] = gb_rand_G.score(x_test, G_test)\n",
    "    gb_r2_etal_G[i] = gb_etal_G.score(x_test, G_test)"
   ]
  },
  {
   "cell_type": "code",
   "execution_count": 45,
   "metadata": {},
   "outputs": [],
   "source": [
    "gb_r2_etal_B = np.zeros(n_rep)\n",
    "gb_r2_rand_B = np.zeros(n_rep)\n",
    "for i in range(n_rep):\n",
    "    gb_etal_B = GradientBoostingRegressor(random_state=i).fit(x_etal, B_etal)\n",
    "    gb_rand_B = GradientBoostingRegressor(random_state=i).fit(x_rand, B_rand)\n",
    "    gb_r2_rand_B[i] = gb_rand_B.score(x_test, B_test)\n",
    "    gb_r2_etal_B[i] = gb_etal_B.score(x_test, B_test)"
   ]
  },
  {
   "cell_type": "markdown",
   "metadata": {},
   "source": [
    "## Neural Net"
   ]
  },
  {
   "cell_type": "code",
   "execution_count": 43,
   "metadata": {},
   "outputs": [
    {
     "data": {
      "text/plain": [
       "(0.01653454377793251, 0.0028510784907186393)"
      ]
     },
     "execution_count": 43,
     "metadata": {},
     "output_type": "execute_result"
    }
   ],
   "source": [
    "from sklearn.neural_network import MLPRegressor\n",
    "from joblib import Parallel, delayed\n",
    "from sklearn.preprocessing import StandardScaler\n",
    "from sklearn.pipeline import make_pipeline\n",
    "n_rep = 30\n",
    "hidden_size = (128,)\n",
    "batch_size = 32\n",
    "max_iter = 500\n",
    "alpha = 0.1\n",
    "# learning_rate_init = 0.001\n",
    "activation = 'relu'\n",
    "\n",
    "def train_nn_etal_B(i):\n",
    "    nn_etal_B = make_pipeline(StandardScaler(), MLPRegressor(hidden_layer_sizes=hidden_size, random_state=i, early_stopping=True, alpha=alpha, batch_size=batch_size,\n",
    "    max_iter=max_iter, activation=activation))\n",
    "    nn_etal_B.fit(x_etal, B_etal)\n",
    "    return nn_etal_B.score(x_test, B_test)\n",
    "\n",
    "def train_nn_rand_B(i):\n",
    "    nn_rand_B = make_pipeline(StandardScaler(), MLPRegressor(hidden_layer_sizes=hidden_size, random_state=i, early_stopping=True, alpha=alpha, batch_size=batch_size,\n",
    "    max_iter=max_iter, activation=activation))\n",
    "    nn_rand_B.fit(x_rand, B_rand)\n",
    "    return nn_rand_B.score(x_test, B_test)\n",
    "\n",
    "nn_r2_etal_B = Parallel(n_jobs=10)(delayed(train_nn_etal_B)(i) for i in range (n_rep))\n",
    "nn_r2_rand_B = Parallel(n_jobs=10)(delayed(train_nn_rand_B)(i) for i in range (n_rep))\n",
    "\n",
    "\n",
    "def train_nn_etal_G(i):\n",
    "    \n",
    "    nn_etal_G = make_pipeline(StandardScaler(), MLPRegressor(hidden_layer_sizes=hidden_size, random_state=i, early_stopping=True, alpha=alpha, batch_size=batch_size,\n",
    "    max_iter=max_iter, activation=activation))\n",
    "    nn_etal_G.fit(x_etal, G_etal)\n",
    "    return nn_etal_G.score(x_test, G_test)\n",
    "\n",
    "def train_nn_rand_G(i):\n",
    "    nn_rand_G = make_pipeline(StandardScaler(), MLPRegressor(hidden_layer_sizes=hidden_size, random_state=i, early_stopping=True, alpha=alpha, batch_size=batch_size,\n",
    "    max_iter=max_iter, activation=activation))\n",
    "    nn_rand_G.fit(x_rand, G_rand)\n",
    "    return nn_rand_G.score(x_test, G_test)\n",
    "\n",
    "nn_r2_etal_G = Parallel(n_jobs=10)(delayed(train_nn_etal_G)(i) for i in range (n_rep))\n",
    "nn_r2_rand_G = Parallel(n_jobs=10)(delayed(train_nn_rand_G)(i) for i in range (n_rep))\n",
    "\n",
    "np.mean(nn_r2_etal_G)-np.mean(nn_r2_rand_G), np.mean(nn_r2_etal_B)-np.mean(nn_r2_rand_B)\n"
   ]
  },
  {
   "cell_type": "code",
   "execution_count": 44,
   "metadata": {},
   "outputs": [
    {
     "data": {
      "text/plain": [
       "(0.5879047730731908, 0.7495866165015)"
      ]
     },
     "execution_count": 44,
     "metadata": {},
     "output_type": "execute_result"
    }
   ],
   "source": [
    "np.mean(nn_r2_etal_G), np.mean(nn_r2_etal_B)"
   ]
  },
  {
   "cell_type": "markdown",
   "metadata": {},
   "source": [
    "Grid CV search for SVM"
   ]
  },
  {
   "cell_type": "code",
   "execution_count": 168,
   "metadata": {},
   "outputs": [
    {
     "data": {
      "text/plain": [
       "GridSearchCV(estimator=Pipeline(steps=[('scaler', StandardScaler()),\n",
       "                                       ('pca', PCA()), ('svr', SVR())]),\n",
       "             param_grid={'pca__n_components': [3, 5, 7, 9],\n",
       "                         'svr__C': [1, 5, 10],\n",
       "                         'svr__kernel': ('rbf', 'poly', 'sigmoid')})"
      ]
     },
     "execution_count": 168,
     "metadata": {},
     "output_type": "execute_result"
    }
   ],
   "source": [
    "from sklearn.model_selection import GridSearchCV\n",
    "from sklearn.svm import SVR\n",
    "from sklearn.decomposition import PCA\n",
    "from sklearn.preprocessing import StandardScaler\n",
    "from sklearn.pipeline import Pipeline\n",
    "svr = Pipeline([('scaler', StandardScaler()), ('pca', PCA()), ('svr', SVR())])\n",
    "parameters = {'svr__kernel':('rbf', 'poly', 'sigmoid'), 'svr__C': [1,5,10], 'pca__n_components': [3,5,7,9]}\n",
    "clf = GridSearchCV(svr, parameters)\n",
    "clf.fit(x_etal, B_etal)"
   ]
  },
  {
   "cell_type": "markdown",
   "metadata": {},
   "source": [
    "Grid CV search for NN"
   ]
  },
  {
   "cell_type": "code",
   "execution_count": 36,
   "metadata": {},
   "outputs": [
    {
     "name": "stdout",
     "output_type": "stream",
     "text": [
      "Fitting 5 folds for each of 18 candidates, totalling 90 fits\n"
     ]
    },
    {
     "data": {
      "text/plain": [
       "{'mlp__activation': 'tanh',\n",
       " 'mlp__alpha': 0.1,\n",
       " 'mlp__hidden_layer_sizes': (128,)}"
      ]
     },
     "execution_count": 36,
     "metadata": {},
     "output_type": "execute_result"
    }
   ],
   "source": [
    "from sklearn.model_selection import GridSearchCV\n",
    "from sklearn.neural_network import MLPRegressor\n",
    "from sklearn.preprocessing import StandardScaler\n",
    "from sklearn.pipeline import Pipeline\n",
    "nn = Pipeline([('scaler', StandardScaler()), ('mlp', MLPRegressor(early_stopping=True, max_iter=500, batch_size=32))])\n",
    "parameters = {'mlp__alpha': [0.01, 0.05, 0.1],\n",
    "              'mlp__activation': ('tanh', 'relu'),\n",
    "              'mlp__hidden_layer_sizes': ((128,), (64,64), (128,128))\n",
    "             }\n",
    "clf = GridSearchCV(nn, parameters, verbose=3, n_jobs=-1)\n",
    "clf.fit(x_etal, B_etal)\n",
    "clf.best_params_"
   ]
  },
  {
   "cell_type": "markdown",
   "metadata": {},
   "source": [
    "## Make plot"
   ]
  },
  {
   "cell_type": "code",
   "execution_count": 69,
   "metadata": {},
   "outputs": [],
   "source": [
    "import seaborn as sns\n"
   ]
  },
  {
   "cell_type": "code",
   "execution_count": 97,
   "metadata": {},
   "outputs": [],
   "source": [
    "results = pd.concat([pd.DataFrame({'r2': gb_r2_etal_B, 'model': 'gb-B', 'target': 'B', 'dataset':'etal'}),\n",
    "                     pd.DataFrame({'r2': gb_r2_etal_G, 'model': 'gb-G', 'target': 'G', 'dataset':'etal'}),\n",
    "                     pd.DataFrame({'r2': rf_r2_etal_B, 'model': 'rf-B', 'target': 'B', 'dataset':'etal'}),\n",
    "                     pd.DataFrame({'r2': rf_r2_etal_G, 'model': 'rf-G', 'target': 'G', 'dataset':'etal'}),\n",
    "                     pd.DataFrame({'r2': gb_r2_rand_B, 'model': 'gb-B', 'target': 'B', 'dataset':'rand'}),\n",
    "                     pd.DataFrame({'r2': gb_r2_rand_G, 'model': 'gb-G', 'target': 'G', 'dataset':'rand'}),\n",
    "                     pd.DataFrame({'r2': rf_r2_rand_B, 'model': 'rf-B', 'target': 'B', 'dataset':'rand'}),\n",
    "                     pd.DataFrame({'r2': rf_r2_rand_G, 'model': 'rf-G', 'target': 'G', 'dataset':'rand'}),\n",
    "                    ], ignore_index=True)\n",
    "results.to_pickle('D:/PSED/Results/ML/ML_r2.pkl')"
   ]
  },
  {
   "cell_type": "code",
   "execution_count": 56,
   "metadata": {},
   "outputs": [],
   "source": [
    "results_ens = pd.read_pickle('D:/PSED/Results/ML/ML_r2.pkl')\n",
    "results = pd.concat([results_ens,\n",
    "                     pd.DataFrame({'r2': nn_r2_etal_B, 'model': 'nn-B', 'target': 'B', 'dataset': 'etal'}),\n",
    "                     pd.DataFrame({'r2': nn_r2_etal_G, 'model': 'nn-G', 'target': 'G', 'dataset': 'etal'}),\n",
    "                     pd.DataFrame({'r2': nn_r2_rand_B, 'model': 'nn-B', 'target': 'B', 'dataset': 'rand'}),\n",
    "                     pd.DataFrame({'r2': nn_r2_rand_G, 'model': 'nn-G', 'target': 'G', 'dataset': 'rand'})\n",
    "                    ], ignore_index=True)"
   ]
  },
  {
   "cell_type": "code",
   "execution_count": 66,
   "metadata": {},
   "outputs": [],
   "source": [
    "results.loc[results['model'] == 'gb-B', 'model'] = 'Gradient Boosting'\n",
    "results.loc[results['model'] == 'gb-G', 'model'] = 'Gradient Boosting'\n",
    "results.loc[results['model'] == 'rf-B', 'model'] = 'Random Forest'\n",
    "results.loc[results['model'] == 'rf-G', 'model'] = 'Random Forest'\n",
    "results.loc[results['model'] == 'nn-B', 'model'] = 'Neural Network'\n",
    "results.loc[results['model'] == 'nn-G', 'model'] = 'Neural Network'\n",
    "results.loc[results['dataset'] == 'etal', 'dataset'] = 'ETAL'\n",
    "results.loc[results['dataset'] == 'rand', 'dataset'] = 'RAND'\n",
    "results.columns = ['R^2', 'Model', 'Target', 'Dataset']\n"
   ]
  },
  {
   "cell_type": "code",
   "execution_count": 68,
   "metadata": {},
   "outputs": [],
   "source": [
    "results.to_pickle('D:/PSED/Results/ML/ML_r2_all.pkl')"
   ]
  },
  {
   "cell_type": "code",
   "execution_count": 3,
   "metadata": {},
   "outputs": [
    {
     "data": {
      "image/png": "[encoded data removed]",
      "text/plain": [
       "<Figure size 432x288 with 1 Axes>"
      ]
     },
     "metadata": {},
     "output_type": "display_data"
    }
   ],
   "source": [
    "import seaborn as sns\n",
    "import matplotlib.pyplot as plt\n",
    "results = pd.read_pickle('D:/PSED/Results/ML/ML_r2_all.pkl')\n",
    "sns.set_theme(style=\"ticks\", palette='pastel', font_scale=1.5)\n",
    "sns.boxplot(x='Model', y='R^2', hue='Dataset', data=results[(results['Target'] == 'B') & (results['Model'] != 'Neural Network')])\n",
    "\n",
    "\n",
    "plt.title('Bulk Modulus')\n",
    "plt.savefig('D:/PSED/plots/r2_B.png', dpi=200, bbox_inches='tight')"
   ]
  },
  {
   "cell_type": "code",
   "execution_count": 4,
   "metadata": {},
   "outputs": [
    {
     "data": {
      "text/html": [
       "<div>\n",
       "<style scoped>\n",
       "    .dataframe tbody tr th:only-of-type {\n",
       "        vertical-align: middle;\n",
       "    }\n",
       "\n",
       "    .dataframe tbody tr th {\n",
       "        vertical-align: top;\n",
       "    }\n",
       "\n",
       "    .dataframe thead th {\n",
       "        text-align: right;\n",
       "    }\n",
       "</style>\n",
       "<table border=\"1\" class=\"dataframe\">\n",
       "  <thead>\n",
       "    <tr style=\"text-align: right;\">\n",
       "      <th></th>\n",
       "      <th>R^2</th>\n",
       "      <th>Model</th>\n",
       "      <th>Target</th>\n",
       "      <th>Dataset</th>\n",
       "    </tr>\n",
       "  </thead>\n",
       "  <tbody>\n",
       "    <tr>\n",
       "      <th>0</th>\n",
       "      <td>0.830714</td>\n",
       "      <td>Gradient Boosting</td>\n",
       "      <td>B</td>\n",
       "      <td>ETAL</td>\n",
       "    </tr>\n",
       "    <tr>\n",
       "      <th>1</th>\n",
       "      <td>0.830701</td>\n",
       "      <td>Gradient Boosting</td>\n",
       "      <td>B</td>\n",
       "      <td>ETAL</td>\n",
       "    </tr>\n",
       "    <tr>\n",
       "      <th>2</th>\n",
       "      <td>0.830531</td>\n",
       "      <td>Gradient Boosting</td>\n",
       "      <td>B</td>\n",
       "      <td>ETAL</td>\n",
       "    </tr>\n",
       "    <tr>\n",
       "      <th>3</th>\n",
       "      <td>0.830475</td>\n",
       "      <td>Gradient Boosting</td>\n",
       "      <td>B</td>\n",
       "      <td>ETAL</td>\n",
       "    </tr>\n",
       "    <tr>\n",
       "      <th>4</th>\n",
       "      <td>0.830579</td>\n",
       "      <td>Gradient Boosting</td>\n",
       "      <td>B</td>\n",
       "      <td>ETAL</td>\n",
       "    </tr>\n",
       "    <tr>\n",
       "      <th>...</th>\n",
       "      <td>...</td>\n",
       "      <td>...</td>\n",
       "      <td>...</td>\n",
       "      <td>...</td>\n",
       "    </tr>\n",
       "    <tr>\n",
       "      <th>205</th>\n",
       "      <td>0.826832</td>\n",
       "      <td>Random Forest</td>\n",
       "      <td>B</td>\n",
       "      <td>RAND</td>\n",
       "    </tr>\n",
       "    <tr>\n",
       "      <th>206</th>\n",
       "      <td>0.826403</td>\n",
       "      <td>Random Forest</td>\n",
       "      <td>B</td>\n",
       "      <td>RAND</td>\n",
       "    </tr>\n",
       "    <tr>\n",
       "      <th>207</th>\n",
       "      <td>0.823569</td>\n",
       "      <td>Random Forest</td>\n",
       "      <td>B</td>\n",
       "      <td>RAND</td>\n",
       "    </tr>\n",
       "    <tr>\n",
       "      <th>208</th>\n",
       "      <td>0.827047</td>\n",
       "      <td>Random Forest</td>\n",
       "      <td>B</td>\n",
       "      <td>RAND</td>\n",
       "    </tr>\n",
       "    <tr>\n",
       "      <th>209</th>\n",
       "      <td>0.824213</td>\n",
       "      <td>Random Forest</td>\n",
       "      <td>B</td>\n",
       "      <td>RAND</td>\n",
       "    </tr>\n",
       "  </tbody>\n",
       "</table>\n",
       "<p>120 rows × 4 columns</p>\n",
       "</div>"
      ],
      "text/plain": [
       "          R^2              Model Target Dataset\n",
       "0    0.830714  Gradient Boosting      B    ETAL\n",
       "1    0.830701  Gradient Boosting      B    ETAL\n",
       "2    0.830531  Gradient Boosting      B    ETAL\n",
       "3    0.830475  Gradient Boosting      B    ETAL\n",
       "4    0.830579  Gradient Boosting      B    ETAL\n",
       "..        ...                ...    ...     ...\n",
       "205  0.826832      Random Forest      B    RAND\n",
       "206  0.826403      Random Forest      B    RAND\n",
       "207  0.823569      Random Forest      B    RAND\n",
       "208  0.827047      Random Forest      B    RAND\n",
       "209  0.824213      Random Forest      B    RAND\n",
       "\n",
       "[120 rows x 4 columns]"
      ]
     },
     "execution_count": 4,
     "metadata": {},
     "output_type": "execute_result"
    }
   ],
   "source": [
    "results[(results['Target'] == 'B') & (results['Model'] != 'Neural Network')]"
   ]
  },
  {
   "cell_type": "code",
   "execution_count": 75,
   "metadata": {},
   "outputs": [
    {
     "data": {
      "image/png": "[encoded data removed]",
      "text/plain": [
       "<Figure size 432x288 with 1 Axes>"
      ]
     },
     "metadata": {},
     "output_type": "display_data"
    }
   ],
   "source": [
    "sns.set_theme(style=\"ticks\", palette='pastel', font_scale=1.5)\n",
    "sns.boxplot(x='Model', y='R^2', hue='Dataset', data=results[(results['Target'] == 'G') & (results['Model'] != 'Neural Network')])\n",
    "plt.title('Shear Modulus')\n",
    "plt.savefig('D:/PSED/plots/r2_G.png', dpi=200, bbox_inches='tight')"
   ]
  },
  {
   "cell_type": "code",
   "execution_count": null,
   "metadata": {},
   "outputs": [],
   "source": []
  }
 ],
 "metadata": {
  "kernelspec": {
   "display_name": "Python 3.9.7 ('base')",
   "language": "python",
   "name": "python3"
  },
  "language_info": {
   "codemirror_mode": {
    "name": "ipython",
    "version": 3
   },
   "file_extension": ".py",
   "mimetype": "text/x-python",
   "name": "python",
   "nbconvert_exporter": "python",
   "pygments_lexer": "ipython3",
   "version": "3.9.7"
  },
  "orig_nbformat": 4,
  "vscode": {
   "interpreter": {
    "hash": "6f66a74a78460c2692b274b48ce17214f5eb55d57c3113b770dcb94e4d958ddf"
   }
  }
 },
 "nbformat": 4,
 "nbformat_minor": 2
}
