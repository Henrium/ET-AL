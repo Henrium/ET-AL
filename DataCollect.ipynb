{
 "cells": [
  {
   "cell_type": "code",
   "execution_count": 1,
   "metadata": {},
   "outputs": [],
   "source": [
    "from pymatgen.ext.matproj import MPRester\n",
    "import itertools\n",
    "elems = {'Co', 'Ni', 'W', 'Al', 'Cr', 'Fe', 'Ti', 'Cu'}\n",
    "bin_syses = []\n",
    "ter_syses = []\n",
    "for els in itertools.combinations(elems, 2):\n",
    "    bin_syses.append(\"-\".join(sorted(els)))\n",
    "for els in itertools.combinations(elems, 3):\n",
    "    ter_syses.append(\"-\".join(sorted(els)))\n",
    "results = []\n",
    "with MPRester('qPup5BgsXVImhF74') as m:\n",
    "    results += m.get_entries({\"chemsys\": {\"$in\": bin_syses}})\n",
    "    results += m.get_entries({\"chemsys\": {\"$in\": ter_syses}})\n",
    "    # results = m.query(\"Co*\", ['pretty_formula', 'energy'])\n",
    "    # results = m.get_entries_in_chemsys(['Co', 'Al'])\n",
    "structures = []\n",
    "with MPRester('qPup5BgsXVImhF74') as m:\n",
    "    for els in bin_syses:\n",
    "        structures += m.get_structures(els)\n",
    "    for els in ter_syses:\n",
    "        structures += m.get_structures(els)\n",
    "    # structures += m.get_structures({\"chemsys\": {\"$in\": ter_syses}})"
   ]
  },
  {
   "cell_type": "markdown",
   "metadata": {},
   "source": [
    "## Use `query` to get manageable data"
   ]
  },
  {
   "cell_type": "code",
   "execution_count": 54,
   "metadata": {},
   "outputs": [],
   "source": [
    "from mp_api import MPRester\n",
    "import itertools\n",
    "# elems = {'Co', 'Al', 'W', 'Ni', 'Pb', 'Te'}\n",
    "elems = {'Co', 'Ni', 'W', 'Al', 'Cr', 'Fe', 'Ti', 'Cu'}\n",
    "# Binary, ternary combinations of the elements\n",
    "bin_syses = ['-'.join(list(els)) for els in itertools.combinations(elems, 2)]\n",
    "ter_syses = ['-'.join(list(els)) for els in itertools.combinations(elems, 3)]\n",
    "results = []\n",
    "with MPRester('bOlLJdGWWNj14WaNJihnuyOIkt8QDVJo') as mpr:\n",
    "    fields = [\"composition\", \"formula_pretty\", \"nelements\", \"nsites\", \"volume\", \"symmetry\",\n",
    "              \"formation_energy_per_atom\", \"energy_above_hull\", \"band_gap\", \"dos\", \"e_total\", \"energy_per_atom\"]  # structures is complex\n",
    "    for chemsys in bin_syses:\n",
    "        docs = mpr.summary.search(chemsys=chemsys, fields=fields)\n",
    "        results += docs\n",
    "    for chemsys in ter_syses:\n",
    "        docs = mpr.summary.search(chemsys=chemsys, fields=fields)\n",
    "        results += docs\n",
    "    # docs = mpr.summary.search(elements=elems, fields=properties)"
   ]
  },
  {
   "cell_type": "code",
   "execution_count": null,
   "metadata": {},
   "outputs": [],
   "source": [
    "mpr.summary.available_fields"
   ]
  },
  {
   "cell_type": "code",
   "execution_count": 59,
   "metadata": {},
   "outputs": [
    {
     "ename": "AttributeError",
     "evalue": "'SummaryDoc' object has no attribute 'data'",
     "output_type": "error",
     "traceback": [
      "\u001b[1;31m---------------------------------------------------------------------------\u001b[0m",
      "\u001b[1;31mAttributeError\u001b[0m                            Traceback (most recent call last)",
      "\u001b[1;32m~\\AppData\\Local\\Temp\\ipykernel_4540\\4091856930.py\u001b[0m in \u001b[0;36m<module>\u001b[1;34m\u001b[0m\n\u001b[1;32m----> 1\u001b[1;33m \u001b[0mresults\u001b[0m\u001b[1;33m[\u001b[0m\u001b[1;36m0\u001b[0m\u001b[1;33m]\u001b[0m\u001b[1;33m.\u001b[0m\u001b[0mdata\u001b[0m\u001b[1;33m\u001b[0m\u001b[1;33m\u001b[0m\u001b[0m\n\u001b[0m",
      "\u001b[1;31mAttributeError\u001b[0m: 'SummaryDoc' object has no attribute 'data'"
     ]
    }
   ],
   "source": [
    "results[0].data"
   ]
  },
  {
   "cell_type": "markdown",
   "metadata": {},
   "source": [
    "## Save to json"
   ]
  },
  {
   "cell_type": "code",
   "execution_count": 57,
   "metadata": {},
   "outputs": [
    {
     "ename": "TypeError",
     "evalue": "Object of type SummaryDoc is not JSON serializable",
     "output_type": "error",
     "traceback": [
      "\u001b[1;31m---------------------------------------------------------------------------\u001b[0m",
      "\u001b[1;31mTypeError\u001b[0m                                 Traceback (most recent call last)",
      "\u001b[1;32m~\\AppData\\Local\\Temp\\ipykernel_4540\\2077972137.py\u001b[0m in \u001b[0;36m<module>\u001b[1;34m\u001b[0m\n\u001b[0;32m      8\u001b[0m     \u001b[0mname_cnt\u001b[0m\u001b[1;33m[\u001b[0m\u001b[0mcur_formula\u001b[0m\u001b[1;33m]\u001b[0m \u001b[1;33m=\u001b[0m \u001b[0mname_cnt\u001b[0m\u001b[1;33m[\u001b[0m\u001b[0mcur_formula\u001b[0m\u001b[1;33m]\u001b[0m\u001b[1;33m+\u001b[0m\u001b[1;36m1\u001b[0m \u001b[1;32mif\u001b[0m \u001b[0mcur_formula\u001b[0m \u001b[1;32min\u001b[0m \u001b[0mname_cnt\u001b[0m \u001b[1;32melse\u001b[0m \u001b[1;36m0\u001b[0m\u001b[1;33m\u001b[0m\u001b[1;33m\u001b[0m\u001b[0m\n\u001b[0;32m      9\u001b[0m     \u001b[1;32mwith\u001b[0m \u001b[0mopen\u001b[0m\u001b[1;33m(\u001b[0m\u001b[0moutpath\u001b[0m \u001b[1;33m+\u001b[0m \u001b[0mcur\u001b[0m\u001b[1;33m.\u001b[0m\u001b[0mformula_pretty\u001b[0m \u001b[1;33m+\u001b[0m \u001b[1;34m'_'\u001b[0m \u001b[1;33m+\u001b[0m \u001b[0mstr\u001b[0m\u001b[1;33m(\u001b[0m\u001b[0mname_cnt\u001b[0m\u001b[1;33m[\u001b[0m\u001b[0mcur_formula\u001b[0m\u001b[1;33m]\u001b[0m\u001b[1;33m)\u001b[0m \u001b[1;33m+\u001b[0m \u001b[1;34m'.json'\u001b[0m\u001b[1;33m,\u001b[0m \u001b[1;34m'w'\u001b[0m\u001b[1;33m)\u001b[0m \u001b[1;32mas\u001b[0m \u001b[0moutfile\u001b[0m\u001b[1;33m:\u001b[0m\u001b[1;33m\u001b[0m\u001b[1;33m\u001b[0m\u001b[0m\n\u001b[1;32m---> 10\u001b[1;33m         \u001b[0mjson\u001b[0m\u001b[1;33m.\u001b[0m\u001b[0mdump\u001b[0m\u001b[1;33m(\u001b[0m\u001b[0mcur\u001b[0m\u001b[1;33m,\u001b[0m \u001b[0moutfile\u001b[0m\u001b[1;33m)\u001b[0m\u001b[1;33m\u001b[0m\u001b[1;33m\u001b[0m\u001b[0m\n\u001b[0m",
      "\u001b[1;32m~\\Anaconda3\\envs\\psed\\lib\\json\\__init__.py\u001b[0m in \u001b[0;36mdump\u001b[1;34m(obj, fp, skipkeys, ensure_ascii, check_circular, allow_nan, cls, indent, separators, default, sort_keys, **kw)\u001b[0m\n\u001b[0;32m    177\u001b[0m     \u001b[1;31m# could accelerate with writelines in some versions of Python, at\u001b[0m\u001b[1;33m\u001b[0m\u001b[1;33m\u001b[0m\u001b[0m\n\u001b[0;32m    178\u001b[0m     \u001b[1;31m# a debuggability cost\u001b[0m\u001b[1;33m\u001b[0m\u001b[1;33m\u001b[0m\u001b[0m\n\u001b[1;32m--> 179\u001b[1;33m     \u001b[1;32mfor\u001b[0m \u001b[0mchunk\u001b[0m \u001b[1;32min\u001b[0m \u001b[0miterable\u001b[0m\u001b[1;33m:\u001b[0m\u001b[1;33m\u001b[0m\u001b[1;33m\u001b[0m\u001b[0m\n\u001b[0m\u001b[0;32m    180\u001b[0m         \u001b[0mfp\u001b[0m\u001b[1;33m.\u001b[0m\u001b[0mwrite\u001b[0m\u001b[1;33m(\u001b[0m\u001b[0mchunk\u001b[0m\u001b[1;33m)\u001b[0m\u001b[1;33m\u001b[0m\u001b[1;33m\u001b[0m\u001b[0m\n\u001b[0;32m    181\u001b[0m \u001b[1;33m\u001b[0m\u001b[0m\n",
      "\u001b[1;32m~\\Anaconda3\\envs\\psed\\lib\\json\\encoder.py\u001b[0m in \u001b[0;36m_iterencode\u001b[1;34m(o, _current_indent_level)\u001b[0m\n\u001b[0;32m    436\u001b[0m                     \u001b[1;32mraise\u001b[0m \u001b[0mValueError\u001b[0m\u001b[1;33m(\u001b[0m\u001b[1;34m\"Circular reference detected\"\u001b[0m\u001b[1;33m)\u001b[0m\u001b[1;33m\u001b[0m\u001b[1;33m\u001b[0m\u001b[0m\n\u001b[0;32m    437\u001b[0m                 \u001b[0mmarkers\u001b[0m\u001b[1;33m[\u001b[0m\u001b[0mmarkerid\u001b[0m\u001b[1;33m]\u001b[0m \u001b[1;33m=\u001b[0m \u001b[0mo\u001b[0m\u001b[1;33m\u001b[0m\u001b[1;33m\u001b[0m\u001b[0m\n\u001b[1;32m--> 438\u001b[1;33m             \u001b[0mo\u001b[0m \u001b[1;33m=\u001b[0m \u001b[0m_default\u001b[0m\u001b[1;33m(\u001b[0m\u001b[0mo\u001b[0m\u001b[1;33m)\u001b[0m\u001b[1;33m\u001b[0m\u001b[1;33m\u001b[0m\u001b[0m\n\u001b[0m\u001b[0;32m    439\u001b[0m             \u001b[1;32myield\u001b[0m \u001b[1;32mfrom\u001b[0m \u001b[0m_iterencode\u001b[0m\u001b[1;33m(\u001b[0m\u001b[0mo\u001b[0m\u001b[1;33m,\u001b[0m \u001b[0m_current_indent_level\u001b[0m\u001b[1;33m)\u001b[0m\u001b[1;33m\u001b[0m\u001b[1;33m\u001b[0m\u001b[0m\n\u001b[0;32m    440\u001b[0m             \u001b[1;32mif\u001b[0m \u001b[0mmarkers\u001b[0m \u001b[1;32mis\u001b[0m \u001b[1;32mnot\u001b[0m \u001b[1;32mNone\u001b[0m\u001b[1;33m:\u001b[0m\u001b[1;33m\u001b[0m\u001b[1;33m\u001b[0m\u001b[0m\n",
      "\u001b[1;32m~\\Anaconda3\\envs\\psed\\lib\\json\\encoder.py\u001b[0m in \u001b[0;36mdefault\u001b[1;34m(self, o)\u001b[0m\n\u001b[0;32m    177\u001b[0m \u001b[1;33m\u001b[0m\u001b[0m\n\u001b[0;32m    178\u001b[0m         \"\"\"\n\u001b[1;32m--> 179\u001b[1;33m         raise TypeError(f'Object of type {o.__class__.__name__} '\n\u001b[0m\u001b[0;32m    180\u001b[0m                         f'is not JSON serializable')\n\u001b[0;32m    181\u001b[0m \u001b[1;33m\u001b[0m\u001b[0m\n",
      "\u001b[1;31mTypeError\u001b[0m: Object of type SummaryDoc is not JSON serializable"
     ]
    }
   ],
   "source": [
    "import json\n",
    "outpath = 'D:/PSED/DataCollect/MP/'\n",
    "name_cnt = {}\n",
    "for i in range(len(results)):\n",
    "    cur = results[i]\n",
    "    cur_formula = cur.formula_pretty  # For file naming\n",
    "    # Add num to duplicate names\n",
    "    name_cnt[cur_formula] = name_cnt[cur_formula]+1 if cur_formula in name_cnt else 0\n",
    "    with open(outpath + cur.formula_pretty + '_' + str(name_cnt[cur_formula]) + '.json', 'w') as outfile:\n",
    "        json.dump(cur, outfile)\n"
   ]
  },
  {
   "cell_type": "code",
   "execution_count": 3,
   "metadata": {},
   "outputs": [
    {
     "data": {
      "text/plain": [
       "340"
      ]
     },
     "execution_count": 3,
     "metadata": {},
     "output_type": "execute_result"
    }
   ],
   "source": [
    "len(results)"
   ]
  },
  {
   "cell_type": "markdown",
   "metadata": {},
   "source": [
    "## Data preparation\n",
    "Load MP/OQMD data from `json` files and covert to `DataFrame`."
   ]
  },
  {
   "cell_type": "code",
   "execution_count": 2,
   "metadata": {},
   "outputs": [],
   "source": [
    "import os, json\n",
    "import pandas as pd\n",
    "mp_path = 'D:/PSED/DataCollect/MP/'\n",
    "\n",
    "mp_files = os.listdir(mp_path)\n",
    "\n",
    "\n",
    "# List of predictors and response. Energy is formation energy per atom (delta E).\n",
    "features = ['Co', 'Ni', 'W', 'Al', 'Cr', 'Fe', 'Ti', 'Cu', 'structure', 'volume', 'bandgap', 'natoms', 'ntypes', 'energy']\n",
    "\n",
    "# Organized as table.\n",
    "alloy_data = pd.DataFrame(columns=features)\n",
    "\n",
    "for idx, file in enumerate(mp_files):\n",
    "    with open(mp_path + file) as f:\n",
    "        data = json.load(f)\n",
    "        cur_entry = dict.fromkeys(features, 0)\n",
    "        for els in data['formula']:\n",
    "            cur_entry[els] = data['formula'][els]\n",
    "        cur_entry['structure'] = data['spacegroup']['symbol']\n",
    "        cur_entry['crystal_system'] = data['spacegroup']['crystal_system']\n",
    "        cur_entry['volume'] = data['volume']\n",
    "        cur_entry['bandgap'] = data['band_gap']\n",
    "        cur_entry['natoms'] = data['nsites']\n",
    "        cur_entry['ntypes'] = data['nelements']\n",
    "        cur_entry['energy'] = data['formation_energy_per_atom']\n",
    "        alloy_data = pd.concat([alloy_data, pd.DataFrame(cur_entry, index=[idx])])"
   ]
  },
  {
   "cell_type": "code",
   "execution_count": 3,
   "metadata": {},
   "outputs": [
    {
     "data": {
      "text/plain": [
       "{'formula': {'W': 1.0},\n",
       " 'pretty_formula': 'W',\n",
       " 'nelements': 1,\n",
       " 'nsites': 4,\n",
       " 'volume': 67.28638234722543,\n",
       " 'spacegroup': {'symprec': 0.1,\n",
       "  'source': 'spglib',\n",
       "  'symbol': 'Pbcm',\n",
       "  'number': 57,\n",
       "  'point_group': 'mmm',\n",
       "  'crystal_system': 'orthorhombic',\n",
       "  'hall': '-P 2c 2b'},\n",
       " 'cif': \"# generated using pymatgen\\ndata_W\\n_symmetry_space_group_name_H-M   'P 1'\\n_cell_length_a   2.80966200\\n_cell_length_b   4.86387000\\n_cell_length_c   4.92369500\\n_cell_angle_alpha   90.00000000\\n_cell_angle_beta   90.00000000\\n_cell_angle_gamma   90.00000000\\n_symmetry_Int_Tables_number   1\\n_chemical_formula_structural   W\\n_chemical_formula_sum   W4\\n_cell_volume   67.28638235\\n_cell_formula_units_Z   4\\nloop_\\n _symmetry_equiv_pos_site_id\\n _symmetry_equiv_pos_as_xyz\\n  1  'x, y, z'\\nloop_\\n _atom_site_type_symbol\\n _atom_site_label\\n _atom_site_symmetry_multiplicity\\n _atom_site_fract_x\\n _atom_site_fract_y\\n _atom_site_fract_z\\n _atom_site_occupancy\\n  W  W0  1  0.79317200  0.56315700  0.25000000  1\\n  W  W1  1  0.20682800  0.06315700  0.25000000  1\\n  W  W2  1  0.20682800  0.43684300  0.75000000  1\\n  W  W3  1  0.79317200  0.93684300  0.75000000  1\\n\",\n",
       " 'formation_energy_per_atom': 0.4913886025000007,\n",
       " 'e_above_hull': 0.4913886025000007,\n",
       " 'band_gap': 0.0,\n",
       " 'dos': {'GGA': {'task_id': 'mp-1698071'}},\n",
       " 'energy': -49.86695147,\n",
       " 'energy_per_atom': -12.4667378675,\n",
       " 'icsd_ids': [15905]}"
      ]
     },
     "execution_count": 3,
     "metadata": {},
     "output_type": "execute_result"
    }
   ],
   "source": [
    "alloy_data.to_csv('D:/PSED/MP_data.csv')\n",
    "data"
   ]
  },
  {
   "cell_type": "code",
   "execution_count": 31,
   "metadata": {},
   "outputs": [],
   "source": [
    "import chemparse\n",
    "oqmd_file = 'D:/PSED/DataCollect/OQMD/OQMD_adjusted_data.json'\n",
    "\n",
    "\n",
    "alloy_data1 = pd.DataFrame(columns=features)\n",
    "with open(oqmd_file) as f:\n",
    "    lines = f.readlines()\n",
    "lines = [i for i in lines if i!='\\n']\n",
    "\n",
    "idx = 0\n",
    "for line in lines:\n",
    "    results = json.loads(line)['data']\n",
    "    for result in results:\n",
    "        formula = chemparse.parse_formula(result['name'])\n",
    "        cur_entry = dict.fromkeys(features, 0)\n",
    "        for els in formula:\n",
    "            cur_entry[els] = formula[els]\n",
    "        cur_entry['structure'] = result['spacegroup']\n",
    "        cur_entry['volume'] = result['volume']\n",
    "        cur_entry['bandgap'] = result['band_gap']\n",
    "        cur_entry['natoms'] = result['natoms']\n",
    "        cur_entry['ntypes'] = result['ntypes']\n",
    "        cur_entry['energy'] = result['delta_e']\n",
    "        alloy_data1 = pd.concat([alloy_data1, pd.DataFrame(cur_entry, index=[idx])])\n",
    "        idx += 1\n",
    "    \n",
    "alloy_data1.to_csv('D:/PSED/OQMD_data.csv')"
   ]
  },
  {
   "cell_type": "code",
   "execution_count": 29,
   "metadata": {},
   "outputs": [
    {
     "data": {
      "text/plain": [
       "{'name': 'CoNi',\n",
       " 'entry_id': 325658,\n",
       " 'calculation_id': 1835504,\n",
       " 'icsd_id': None,\n",
       " 'formationenergy_id': 5228943,\n",
       " 'duplicate_entry_id': 325658,\n",
       " 'composition': 'Co1 Ni1',\n",
       " 'composition_generic': 'AB',\n",
       " 'prototype': 'L1_1_CuPt',\n",
       " 'spacegroup': 'R-3m',\n",
       " 'volume': 21.3889,\n",
       " 'ntypes': 2,\n",
       " 'natoms': 2,\n",
       " 'unit_cell': [[1.238475, 0.715033, 4.025531],\n",
       "  [-1.238475, 0.715033, 4.025531],\n",
       "  [0.0, -1.430067, 4.025531]],\n",
       " 'sites': ['Co @ 0 0 0', 'Ni @ 0.5 0.5 0.5'],\n",
       " 'band_gap': 0.0,\n",
       " 'delta_e': 0.0010416400000004,\n",
       " 'stability': 0.024345890944137624,\n",
       " 'fit': 'standard',\n",
       " 'calculation_label': 'static'}"
      ]
     },
     "execution_count": 29,
     "metadata": {},
     "output_type": "execute_result"
    }
   ],
   "source": [
    "results[1]"
   ]
  },
  {
   "cell_type": "code",
   "execution_count": 5,
   "metadata": {},
   "outputs": [
    {
     "data": {
      "text/plain": [
       "{'name': 'CoW2',\n",
       " 'entry_id': 1487152,\n",
       " 'icsd_id': None,\n",
       " 'composition_generic': 'AB2',\n",
       " 'prototype': None,\n",
       " 'spacegroup': 'P63/mmc',\n",
       " 'volume': 386.695,\n",
       " 'ntypes': 2,\n",
       " 'natoms': 24,\n",
       " 'band_gap': 0.0,\n",
       " 'delta_e': 0.815423025,\n",
       " 'stability': 0.856845761252439}"
      ]
     },
     "execution_count": 5,
     "metadata": {},
     "output_type": "execute_result"
    }
   ],
   "source": [
    "idx = 0\n",
    "for file in oqmd_files:\n",
    "    with open(file) as f:\n",
    "        dataset = json.load(f)['data']\n",
    "        for data in dataset:\n",
    "            formula = chemparse.parse_formula(data['name'])\n",
    "            cur_entry = dict.fromkeys(features, 0)\n",
    "            for els in formula:\n",
    "                cur_entry[els] = formula[els]\n",
    "            cur_entry['structure'] = data['spacegroup']\n",
    "            cur_entry['volume'] = data['volume']\n",
    "            cur_entry['bandgap'] = data['band_gap']\n",
    "            cur_entry['natoms'] = data['natoms']\n",
    "            cur_entry['ntypes'] = data['ntypes']\n",
    "            cur_entry['energy'] = data['delta_e']\n",
    "            alloy_data1 = pd.concat([alloy_data1, pd.DataFrame(cur_entry, index=[idx])])\n",
    "            idx += 1\n",
    "\n",
    "data"
   ]
  },
  {
   "cell_type": "code",
   "execution_count": 13,
   "metadata": {},
   "outputs": [],
   "source": [
    "\n",
    "alloy_data1.to_csv('D:/PSED/OQMD_data.csv')"
   ]
  }
 ],
 "metadata": {
  "kernelspec": {
   "display_name": "Python 3.9.7 ('gp-torch')",
   "language": "python",
   "name": "python3"
  },
  "language_info": {
   "codemirror_mode": {
    "name": "ipython",
    "version": 3
   },
   "file_extension": ".py",
   "mimetype": "text/x-python",
   "name": "python",
   "nbconvert_exporter": "python",
   "pygments_lexer": "ipython3",
   "version": "3.9.7"
  },
  "orig_nbformat": 4,
  "vscode": {
   "interpreter": {
    "hash": "ff0aa4e5de9c71d2c7436cc2d10e10138f49ede2f66356eedd65eddd2175447c"
   }
  }
 },
 "nbformat": 4,
 "nbformat_minor": 2
}
