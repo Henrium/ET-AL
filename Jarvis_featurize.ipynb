{
 "cells": [
  {
   "cell_type": "code",
   "execution_count": 7,
   "metadata": {},
   "outputs": [],
   "source": [
    "import pandas as pd\n",
    "from compound_featurizer import read_new_struct, composition_featurizer, structure_featurizer, generate_formula_from_structure, handbuilt_featurizer\n",
    "cif_path = 'D:/PSED/jarvis_cifs/4.cif'\n"
   ]
  },
  {
   "cell_type": "code",
   "execution_count": 13,
   "metadata": {},
   "outputs": [
    {
     "name": "stderr",
     "output_type": "stream",
     "text": [
      "c:\\Users\\hzz6536\\Anaconda3\\envs\\psed\\lib\\site-packages\\pymatgen\\io\\cif.py:1164: UserWarning: Issues encountered while parsing CIF: Some fractional co-ordinates rounded to ideal values to avoid issues with finite precision.\n",
      "  warnings.warn(\"Issues encountered while parsing CIF: %s\" % \"\\n\".join(self.warnings))\n",
      "StrToComposition: 100%|██████████| 1/1 [00:00<00:00, 17.24it/s]\n",
      "ElementProperty: 100%|██████████| 1/1 [00:00<00:00,  7.63it/s]\n",
      "c:\\Users\\hzz6536\\Anaconda3\\envs\\psed\\lib\\site-packages\\matminer\\featurizers\\base.py:355: PerformanceWarning: DataFrame is highly fragmented.  This is usually the result of calling `frame.insert` many times, which has poor performance.  Consider joining all columns at once using pd.concat(axis=1) instead. To get a de-fragmented frame, use `newframe = frame.copy()`\n",
      "  df[labels] = res[labels]\n",
      "c:\\Users\\hzz6536\\Anaconda3\\envs\\psed\\lib\\site-packages\\matminer\\featurizers\\base.py:355: PerformanceWarning: DataFrame is highly fragmented.  This is usually the result of calling `frame.insert` many times, which has poor performance.  Consider joining all columns at once using pd.concat(axis=1) instead. To get a de-fragmented frame, use `newframe = frame.copy()`\n",
      "  df[labels] = res[labels]\n",
      "c:\\Users\\hzz6536\\Anaconda3\\envs\\psed\\lib\\site-packages\\matminer\\featurizers\\base.py:355: PerformanceWarning: DataFrame is highly fragmented.  This is usually the result of calling `frame.insert` many times, which has poor performance.  Consider joining all columns at once using pd.concat(axis=1) instead. To get a de-fragmented frame, use `newframe = frame.copy()`\n",
      "  df[labels] = res[labels]\n",
      "c:\\Users\\hzz6536\\Anaconda3\\envs\\psed\\lib\\site-packages\\matminer\\featurizers\\base.py:355: PerformanceWarning: DataFrame is highly fragmented.  This is usually the result of calling `frame.insert` many times, which has poor performance.  Consider joining all columns at once using pd.concat(axis=1) instead. To get a de-fragmented frame, use `newframe = frame.copy()`\n",
      "  df[labels] = res[labels]\n",
      "c:\\Users\\hzz6536\\Anaconda3\\envs\\psed\\lib\\site-packages\\matminer\\featurizers\\base.py:355: PerformanceWarning: DataFrame is highly fragmented.  This is usually the result of calling `frame.insert` many times, which has poor performance.  Consider joining all columns at once using pd.concat(axis=1) instead. To get a de-fragmented frame, use `newframe = frame.copy()`\n",
      "  df[labels] = res[labels]\n",
      "c:\\Users\\hzz6536\\Anaconda3\\envs\\psed\\lib\\site-packages\\matminer\\featurizers\\base.py:355: PerformanceWarning: DataFrame is highly fragmented.  This is usually the result of calling `frame.insert` many times, which has poor performance.  Consider joining all columns at once using pd.concat(axis=1) instead. To get a de-fragmented frame, use `newframe = frame.copy()`\n",
      "  df[labels] = res[labels]\n",
      "c:\\Users\\hzz6536\\Anaconda3\\envs\\psed\\lib\\site-packages\\matminer\\featurizers\\base.py:355: PerformanceWarning: DataFrame is highly fragmented.  This is usually the result of calling `frame.insert` many times, which has poor performance.  Consider joining all columns at once using pd.concat(axis=1) instead. To get a de-fragmented frame, use `newframe = frame.copy()`\n",
      "  df[labels] = res[labels]\n",
      "c:\\Users\\hzz6536\\Anaconda3\\envs\\psed\\lib\\site-packages\\matminer\\featurizers\\base.py:355: PerformanceWarning: DataFrame is highly fragmented.  This is usually the result of calling `frame.insert` many times, which has poor performance.  Consider joining all columns at once using pd.concat(axis=1) instead. To get a de-fragmented frame, use `newframe = frame.copy()`\n",
      "  df[labels] = res[labels]\n",
      "c:\\Users\\hzz6536\\Anaconda3\\envs\\psed\\lib\\site-packages\\matminer\\featurizers\\base.py:355: PerformanceWarning: DataFrame is highly fragmented.  This is usually the result of calling `frame.insert` many times, which has poor performance.  Consider joining all columns at once using pd.concat(axis=1) instead. To get a de-fragmented frame, use `newframe = frame.copy()`\n",
      "  df[labels] = res[labels]\n",
      "c:\\Users\\hzz6536\\Anaconda3\\envs\\psed\\lib\\site-packages\\matminer\\featurizers\\base.py:355: PerformanceWarning: DataFrame is highly fragmented.  This is usually the result of calling `frame.insert` many times, which has poor performance.  Consider joining all columns at once using pd.concat(axis=1) instead. To get a de-fragmented frame, use `newframe = frame.copy()`\n",
      "  df[labels] = res[labels]\n",
      "c:\\Users\\hzz6536\\Anaconda3\\envs\\psed\\lib\\site-packages\\matminer\\featurizers\\base.py:355: PerformanceWarning: DataFrame is highly fragmented.  This is usually the result of calling `frame.insert` many times, which has poor performance.  Consider joining all columns at once using pd.concat(axis=1) instead. To get a de-fragmented frame, use `newframe = frame.copy()`\n",
      "  df[labels] = res[labels]\n",
      "c:\\Users\\hzz6536\\Anaconda3\\envs\\psed\\lib\\site-packages\\matminer\\featurizers\\base.py:355: PerformanceWarning: DataFrame is highly fragmented.  This is usually the result of calling `frame.insert` many times, which has poor performance.  Consider joining all columns at once using pd.concat(axis=1) instead. To get a de-fragmented frame, use `newframe = frame.copy()`\n",
      "  df[labels] = res[labels]\n",
      "c:\\Users\\hzz6536\\Anaconda3\\envs\\psed\\lib\\site-packages\\matminer\\featurizers\\base.py:355: PerformanceWarning: DataFrame is highly fragmented.  This is usually the result of calling `frame.insert` many times, which has poor performance.  Consider joining all columns at once using pd.concat(axis=1) instead. To get a de-fragmented frame, use `newframe = frame.copy()`\n",
      "  df[labels] = res[labels]\n",
      "c:\\Users\\hzz6536\\Anaconda3\\envs\\psed\\lib\\site-packages\\matminer\\featurizers\\base.py:355: PerformanceWarning: DataFrame is highly fragmented.  This is usually the result of calling `frame.insert` many times, which has poor performance.  Consider joining all columns at once using pd.concat(axis=1) instead. To get a de-fragmented frame, use `newframe = frame.copy()`\n",
      "  df[labels] = res[labels]\n",
      "c:\\Users\\hzz6536\\Anaconda3\\envs\\psed\\lib\\site-packages\\matminer\\featurizers\\base.py:355: PerformanceWarning: DataFrame is highly fragmented.  This is usually the result of calling `frame.insert` many times, which has poor performance.  Consider joining all columns at once using pd.concat(axis=1) instead. To get a de-fragmented frame, use `newframe = frame.copy()`\n",
      "  df[labels] = res[labels]\n",
      "c:\\Users\\hzz6536\\Anaconda3\\envs\\psed\\lib\\site-packages\\matminer\\featurizers\\base.py:355: PerformanceWarning: DataFrame is highly fragmented.  This is usually the result of calling `frame.insert` many times, which has poor performance.  Consider joining all columns at once using pd.concat(axis=1) instead. To get a de-fragmented frame, use `newframe = frame.copy()`\n",
      "  df[labels] = res[labels]\n",
      "c:\\Users\\hzz6536\\Anaconda3\\envs\\psed\\lib\\site-packages\\matminer\\featurizers\\base.py:355: PerformanceWarning: DataFrame is highly fragmented.  This is usually the result of calling `frame.insert` many times, which has poor performance.  Consider joining all columns at once using pd.concat(axis=1) instead. To get a de-fragmented frame, use `newframe = frame.copy()`\n",
      "  df[labels] = res[labels]\n",
      "c:\\Users\\hzz6536\\Anaconda3\\envs\\psed\\lib\\site-packages\\matminer\\featurizers\\base.py:355: PerformanceWarning: DataFrame is highly fragmented.  This is usually the result of calling `frame.insert` many times, which has poor performance.  Consider joining all columns at once using pd.concat(axis=1) instead. To get a de-fragmented frame, use `newframe = frame.copy()`\n",
      "  df[labels] = res[labels]\n",
      "c:\\Users\\hzz6536\\Anaconda3\\envs\\psed\\lib\\site-packages\\matminer\\featurizers\\base.py:355: PerformanceWarning: DataFrame is highly fragmented.  This is usually the result of calling `frame.insert` many times, which has poor performance.  Consider joining all columns at once using pd.concat(axis=1) instead. To get a de-fragmented frame, use `newframe = frame.copy()`\n",
      "  df[labels] = res[labels]\n",
      "c:\\Users\\hzz6536\\Anaconda3\\envs\\psed\\lib\\site-packages\\matminer\\featurizers\\base.py:355: PerformanceWarning: DataFrame is highly fragmented.  This is usually the result of calling `frame.insert` many times, which has poor performance.  Consider joining all columns at once using pd.concat(axis=1) instead. To get a de-fragmented frame, use `newframe = frame.copy()`\n",
      "  df[labels] = res[labels]\n",
      "c:\\Users\\hzz6536\\Anaconda3\\envs\\psed\\lib\\site-packages\\matminer\\featurizers\\base.py:355: PerformanceWarning: DataFrame is highly fragmented.  This is usually the result of calling `frame.insert` many times, which has poor performance.  Consider joining all columns at once using pd.concat(axis=1) instead. To get a de-fragmented frame, use `newframe = frame.copy()`\n",
      "  df[labels] = res[labels]\n",
      "c:\\Users\\hzz6536\\Anaconda3\\envs\\psed\\lib\\site-packages\\matminer\\featurizers\\base.py:355: PerformanceWarning: DataFrame is highly fragmented.  This is usually the result of calling `frame.insert` many times, which has poor performance.  Consider joining all columns at once using pd.concat(axis=1) instead. To get a de-fragmented frame, use `newframe = frame.copy()`\n",
      "  df[labels] = res[labels]\n",
      "c:\\Users\\hzz6536\\Anaconda3\\envs\\psed\\lib\\site-packages\\matminer\\featurizers\\base.py:355: PerformanceWarning: DataFrame is highly fragmented.  This is usually the result of calling `frame.insert` many times, which has poor performance.  Consider joining all columns at once using pd.concat(axis=1) instead. To get a de-fragmented frame, use `newframe = frame.copy()`\n",
      "  df[labels] = res[labels]\n",
      "c:\\Users\\hzz6536\\Anaconda3\\envs\\psed\\lib\\site-packages\\matminer\\featurizers\\base.py:355: PerformanceWarning: DataFrame is highly fragmented.  This is usually the result of calling `frame.insert` many times, which has poor performance.  Consider joining all columns at once using pd.concat(axis=1) instead. To get a de-fragmented frame, use `newframe = frame.copy()`\n",
      "  df[labels] = res[labels]\n",
      "c:\\Users\\hzz6536\\Anaconda3\\envs\\psed\\lib\\site-packages\\matminer\\featurizers\\base.py:355: PerformanceWarning: DataFrame is highly fragmented.  This is usually the result of calling `frame.insert` many times, which has poor performance.  Consider joining all columns at once using pd.concat(axis=1) instead. To get a de-fragmented frame, use `newframe = frame.copy()`\n",
      "  df[labels] = res[labels]\n",
      "c:\\Users\\hzz6536\\Anaconda3\\envs\\psed\\lib\\site-packages\\matminer\\featurizers\\base.py:355: PerformanceWarning: DataFrame is highly fragmented.  This is usually the result of calling `frame.insert` many times, which has poor performance.  Consider joining all columns at once using pd.concat(axis=1) instead. To get a de-fragmented frame, use `newframe = frame.copy()`\n",
      "  df[labels] = res[labels]\n",
      "c:\\Users\\hzz6536\\Anaconda3\\envs\\psed\\lib\\site-packages\\matminer\\featurizers\\base.py:355: PerformanceWarning: DataFrame is highly fragmented.  This is usually the result of calling `frame.insert` many times, which has poor performance.  Consider joining all columns at once using pd.concat(axis=1) instead. To get a de-fragmented frame, use `newframe = frame.copy()`\n",
      "  df[labels] = res[labels]\n",
      "c:\\Users\\hzz6536\\Anaconda3\\envs\\psed\\lib\\site-packages\\matminer\\featurizers\\base.py:355: PerformanceWarning: DataFrame is highly fragmented.  This is usually the result of calling `frame.insert` many times, which has poor performance.  Consider joining all columns at once using pd.concat(axis=1) instead. To get a de-fragmented frame, use `newframe = frame.copy()`\n",
      "  df[labels] = res[labels]\n",
      "c:\\Users\\hzz6536\\Anaconda3\\envs\\psed\\lib\\site-packages\\matminer\\featurizers\\base.py:355: PerformanceWarning: DataFrame is highly fragmented.  This is usually the result of calling `frame.insert` many times, which has poor performance.  Consider joining all columns at once using pd.concat(axis=1) instead. To get a de-fragmented frame, use `newframe = frame.copy()`\n",
      "  df[labels] = res[labels]\n",
      "c:\\Users\\hzz6536\\Anaconda3\\envs\\psed\\lib\\site-packages\\matminer\\featurizers\\base.py:355: PerformanceWarning: DataFrame is highly fragmented.  This is usually the result of calling `frame.insert` many times, which has poor performance.  Consider joining all columns at once using pd.concat(axis=1) instead. To get a de-fragmented frame, use `newframe = frame.copy()`\n",
      "  df[labels] = res[labels]\n",
      "c:\\Users\\hzz6536\\Anaconda3\\envs\\psed\\lib\\site-packages\\matminer\\featurizers\\base.py:355: PerformanceWarning: DataFrame is highly fragmented.  This is usually the result of calling `frame.insert` many times, which has poor performance.  Consider joining all columns at once using pd.concat(axis=1) instead. To get a de-fragmented frame, use `newframe = frame.copy()`\n",
      "  df[labels] = res[labels]\n",
      "c:\\Users\\hzz6536\\Anaconda3\\envs\\psed\\lib\\site-packages\\matminer\\featurizers\\base.py:355: PerformanceWarning: DataFrame is highly fragmented.  This is usually the result of calling `frame.insert` many times, which has poor performance.  Consider joining all columns at once using pd.concat(axis=1) instead. To get a de-fragmented frame, use `newframe = frame.copy()`\n",
      "  df[labels] = res[labels]\n",
      "c:\\Users\\hzz6536\\Anaconda3\\envs\\psed\\lib\\site-packages\\matminer\\featurizers\\base.py:355: PerformanceWarning: DataFrame is highly fragmented.  This is usually the result of calling `frame.insert` many times, which has poor performance.  Consider joining all columns at once using pd.concat(axis=1) instead. To get a de-fragmented frame, use `newframe = frame.copy()`\n",
      "  df[labels] = res[labels]\n",
      "CompositionToOxidComposition: 100%|██████████| 1/1 [00:00<00:00, 14.09it/s]\n",
      "OxidationStates: 100%|██████████| 1/1 [00:00<00:00, 20.85it/s]\n"
     ]
    }
   ],
   "source": [
    "test_df = read_new_struct(cif_path)\n",
    "test_df = composition_featurizer(test_df)"
   ]
  },
  {
   "cell_type": "code",
   "execution_count": 2,
   "metadata": {},
   "outputs": [
    {
     "name": "stderr",
     "output_type": "stream",
     "text": [
      "c:\\Users\\hzz6536\\Anaconda3\\envs\\psed\\lib\\site-packages\\pymatgen\\io\\cif.py:1164: UserWarning: Issues encountered while parsing CIF: Some fractional co-ordinates rounded to ideal values to avoid issues with finite precision.\n",
      "  warnings.warn(\"Issues encountered while parsing CIF: %s\" % \"\\n\".join(self.warnings))\n",
      "c:\\Users\\hzz6536\\Anaconda3\\envs\\psed\\lib\\site-packages\\pymatgen\\core\\periodic_table.py:213: UserWarning: No electronegativity for Ar. Setting to NaN. This has no physical meaning, and is mainly done to avoid errors caused by the code expecting a float.\n",
      "  warnings.warn(\n",
      "c:\\Users\\hzz6536\\Anaconda3\\envs\\psed\\lib\\site-packages\\pymatgen\\core\\periodic_table.py:213: UserWarning: No electronegativity for He. Setting to NaN. This has no physical meaning, and is mainly done to avoid errors caused by the code expecting a float.\n",
      "  warnings.warn(\n"
     ]
    }
   ],
   "source": [
    "df = generate_formula_from_structure('D:/PSED/jarvis_cifs/')"
   ]
  },
  {
   "cell_type": "code",
   "execution_count": 6,
   "metadata": {},
   "outputs": [
    {
     "data": {
      "text/plain": [
       "RangeIndex(start=0, stop=19680, step=1)"
      ]
     },
     "execution_count": 6,
     "metadata": {},
     "output_type": "execute_result"
    }
   ],
   "source": [
    "df.index"
   ]
  },
  {
   "cell_type": "code",
   "execution_count": 8,
   "metadata": {},
   "outputs": [
    {
     "name": "stderr",
     "output_type": "stream",
     "text": [
      "StrToComposition: 100%|██████████| 19680/19680 [00:03<00:00, 5673.11it/s]\n",
      "ElementProperty: 100%|██████████| 19680/19680 [00:07<00:00, 2621.55it/s]\n",
      "c:\\Users\\hzz6536\\Anaconda3\\envs\\psed\\lib\\site-packages\\matminer\\featurizers\\base.py:355: PerformanceWarning: DataFrame is highly fragmented.  This is usually the result of calling `frame.insert` many times, which has poor performance.  Consider joining all columns at once using pd.concat(axis=1) instead. To get a de-fragmented frame, use `newframe = frame.copy()`\n",
      "  df[labels] = res[labels]\n",
      "c:\\Users\\hzz6536\\Anaconda3\\envs\\psed\\lib\\site-packages\\matminer\\featurizers\\base.py:355: PerformanceWarning: DataFrame is highly fragmented.  This is usually the result of calling `frame.insert` many times, which has poor performance.  Consider joining all columns at once using pd.concat(axis=1) instead. To get a de-fragmented frame, use `newframe = frame.copy()`\n",
      "  df[labels] = res[labels]\n",
      "c:\\Users\\hzz6536\\Anaconda3\\envs\\psed\\lib\\site-packages\\matminer\\featurizers\\base.py:355: PerformanceWarning: DataFrame is highly fragmented.  This is usually the result of calling `frame.insert` many times, which has poor performance.  Consider joining all columns at once using pd.concat(axis=1) instead. To get a de-fragmented frame, use `newframe = frame.copy()`\n",
      "  df[labels] = res[labels]\n",
      "c:\\Users\\hzz6536\\Anaconda3\\envs\\psed\\lib\\site-packages\\matminer\\featurizers\\base.py:355: PerformanceWarning: DataFrame is highly fragmented.  This is usually the result of calling `frame.insert` many times, which has poor performance.  Consider joining all columns at once using pd.concat(axis=1) instead. To get a de-fragmented frame, use `newframe = frame.copy()`\n",
      "  df[labels] = res[labels]\n",
      "c:\\Users\\hzz6536\\Anaconda3\\envs\\psed\\lib\\site-packages\\matminer\\featurizers\\base.py:355: PerformanceWarning: DataFrame is highly fragmented.  This is usually the result of calling `frame.insert` many times, which has poor performance.  Consider joining all columns at once using pd.concat(axis=1) instead. To get a de-fragmented frame, use `newframe = frame.copy()`\n",
      "  df[labels] = res[labels]\n",
      "c:\\Users\\hzz6536\\Anaconda3\\envs\\psed\\lib\\site-packages\\matminer\\featurizers\\base.py:355: PerformanceWarning: DataFrame is highly fragmented.  This is usually the result of calling `frame.insert` many times, which has poor performance.  Consider joining all columns at once using pd.concat(axis=1) instead. To get a de-fragmented frame, use `newframe = frame.copy()`\n",
      "  df[labels] = res[labels]\n",
      "c:\\Users\\hzz6536\\Anaconda3\\envs\\psed\\lib\\site-packages\\matminer\\featurizers\\base.py:355: PerformanceWarning: DataFrame is highly fragmented.  This is usually the result of calling `frame.insert` many times, which has poor performance.  Consider joining all columns at once using pd.concat(axis=1) instead. To get a de-fragmented frame, use `newframe = frame.copy()`\n",
      "  df[labels] = res[labels]\n",
      "c:\\Users\\hzz6536\\Anaconda3\\envs\\psed\\lib\\site-packages\\matminer\\featurizers\\base.py:355: PerformanceWarning: DataFrame is highly fragmented.  This is usually the result of calling `frame.insert` many times, which has poor performance.  Consider joining all columns at once using pd.concat(axis=1) instead. To get a de-fragmented frame, use `newframe = frame.copy()`\n",
      "  df[labels] = res[labels]\n",
      "c:\\Users\\hzz6536\\Anaconda3\\envs\\psed\\lib\\site-packages\\matminer\\featurizers\\base.py:355: PerformanceWarning: DataFrame is highly fragmented.  This is usually the result of calling `frame.insert` many times, which has poor performance.  Consider joining all columns at once using pd.concat(axis=1) instead. To get a de-fragmented frame, use `newframe = frame.copy()`\n",
      "  df[labels] = res[labels]\n",
      "c:\\Users\\hzz6536\\Anaconda3\\envs\\psed\\lib\\site-packages\\matminer\\featurizers\\base.py:355: PerformanceWarning: DataFrame is highly fragmented.  This is usually the result of calling `frame.insert` many times, which has poor performance.  Consider joining all columns at once using pd.concat(axis=1) instead. To get a de-fragmented frame, use `newframe = frame.copy()`\n",
      "  df[labels] = res[labels]\n",
      "c:\\Users\\hzz6536\\Anaconda3\\envs\\psed\\lib\\site-packages\\matminer\\featurizers\\base.py:355: PerformanceWarning: DataFrame is highly fragmented.  This is usually the result of calling `frame.insert` many times, which has poor performance.  Consider joining all columns at once using pd.concat(axis=1) instead. To get a de-fragmented frame, use `newframe = frame.copy()`\n",
      "  df[labels] = res[labels]\n",
      "c:\\Users\\hzz6536\\Anaconda3\\envs\\psed\\lib\\site-packages\\matminer\\featurizers\\base.py:355: PerformanceWarning: DataFrame is highly fragmented.  This is usually the result of calling `frame.insert` many times, which has poor performance.  Consider joining all columns at once using pd.concat(axis=1) instead. To get a de-fragmented frame, use `newframe = frame.copy()`\n",
      "  df[labels] = res[labels]\n",
      "c:\\Users\\hzz6536\\Anaconda3\\envs\\psed\\lib\\site-packages\\matminer\\featurizers\\base.py:355: PerformanceWarning: DataFrame is highly fragmented.  This is usually the result of calling `frame.insert` many times, which has poor performance.  Consider joining all columns at once using pd.concat(axis=1) instead. To get a de-fragmented frame, use `newframe = frame.copy()`\n",
      "  df[labels] = res[labels]\n",
      "c:\\Users\\hzz6536\\Anaconda3\\envs\\psed\\lib\\site-packages\\matminer\\featurizers\\base.py:355: PerformanceWarning: DataFrame is highly fragmented.  This is usually the result of calling `frame.insert` many times, which has poor performance.  Consider joining all columns at once using pd.concat(axis=1) instead. To get a de-fragmented frame, use `newframe = frame.copy()`\n",
      "  df[labels] = res[labels]\n",
      "c:\\Users\\hzz6536\\Anaconda3\\envs\\psed\\lib\\site-packages\\matminer\\featurizers\\base.py:355: PerformanceWarning: DataFrame is highly fragmented.  This is usually the result of calling `frame.insert` many times, which has poor performance.  Consider joining all columns at once using pd.concat(axis=1) instead. To get a de-fragmented frame, use `newframe = frame.copy()`\n",
      "  df[labels] = res[labels]\n",
      "c:\\Users\\hzz6536\\Anaconda3\\envs\\psed\\lib\\site-packages\\matminer\\featurizers\\base.py:355: PerformanceWarning: DataFrame is highly fragmented.  This is usually the result of calling `frame.insert` many times, which has poor performance.  Consider joining all columns at once using pd.concat(axis=1) instead. To get a de-fragmented frame, use `newframe = frame.copy()`\n",
      "  df[labels] = res[labels]\n",
      "c:\\Users\\hzz6536\\Anaconda3\\envs\\psed\\lib\\site-packages\\matminer\\featurizers\\base.py:355: PerformanceWarning: DataFrame is highly fragmented.  This is usually the result of calling `frame.insert` many times, which has poor performance.  Consider joining all columns at once using pd.concat(axis=1) instead. To get a de-fragmented frame, use `newframe = frame.copy()`\n",
      "  df[labels] = res[labels]\n",
      "c:\\Users\\hzz6536\\Anaconda3\\envs\\psed\\lib\\site-packages\\matminer\\featurizers\\base.py:355: PerformanceWarning: DataFrame is highly fragmented.  This is usually the result of calling `frame.insert` many times, which has poor performance.  Consider joining all columns at once using pd.concat(axis=1) instead. To get a de-fragmented frame, use `newframe = frame.copy()`\n",
      "  df[labels] = res[labels]\n",
      "c:\\Users\\hzz6536\\Anaconda3\\envs\\psed\\lib\\site-packages\\matminer\\featurizers\\base.py:355: PerformanceWarning: DataFrame is highly fragmented.  This is usually the result of calling `frame.insert` many times, which has poor performance.  Consider joining all columns at once using pd.concat(axis=1) instead. To get a de-fragmented frame, use `newframe = frame.copy()`\n",
      "  df[labels] = res[labels]\n",
      "c:\\Users\\hzz6536\\Anaconda3\\envs\\psed\\lib\\site-packages\\matminer\\featurizers\\base.py:355: PerformanceWarning: DataFrame is highly fragmented.  This is usually the result of calling `frame.insert` many times, which has poor performance.  Consider joining all columns at once using pd.concat(axis=1) instead. To get a de-fragmented frame, use `newframe = frame.copy()`\n",
      "  df[labels] = res[labels]\n",
      "c:\\Users\\hzz6536\\Anaconda3\\envs\\psed\\lib\\site-packages\\matminer\\featurizers\\base.py:355: PerformanceWarning: DataFrame is highly fragmented.  This is usually the result of calling `frame.insert` many times, which has poor performance.  Consider joining all columns at once using pd.concat(axis=1) instead. To get a de-fragmented frame, use `newframe = frame.copy()`\n",
      "  df[labels] = res[labels]\n",
      "c:\\Users\\hzz6536\\Anaconda3\\envs\\psed\\lib\\site-packages\\matminer\\featurizers\\base.py:355: PerformanceWarning: DataFrame is highly fragmented.  This is usually the result of calling `frame.insert` many times, which has poor performance.  Consider joining all columns at once using pd.concat(axis=1) instead. To get a de-fragmented frame, use `newframe = frame.copy()`\n",
      "  df[labels] = res[labels]\n",
      "c:\\Users\\hzz6536\\Anaconda3\\envs\\psed\\lib\\site-packages\\matminer\\featurizers\\base.py:355: PerformanceWarning: DataFrame is highly fragmented.  This is usually the result of calling `frame.insert` many times, which has poor performance.  Consider joining all columns at once using pd.concat(axis=1) instead. To get a de-fragmented frame, use `newframe = frame.copy()`\n",
      "  df[labels] = res[labels]\n",
      "c:\\Users\\hzz6536\\Anaconda3\\envs\\psed\\lib\\site-packages\\matminer\\featurizers\\base.py:355: PerformanceWarning: DataFrame is highly fragmented.  This is usually the result of calling `frame.insert` many times, which has poor performance.  Consider joining all columns at once using pd.concat(axis=1) instead. To get a de-fragmented frame, use `newframe = frame.copy()`\n",
      "  df[labels] = res[labels]\n",
      "c:\\Users\\hzz6536\\Anaconda3\\envs\\psed\\lib\\site-packages\\matminer\\featurizers\\base.py:355: PerformanceWarning: DataFrame is highly fragmented.  This is usually the result of calling `frame.insert` many times, which has poor performance.  Consider joining all columns at once using pd.concat(axis=1) instead. To get a de-fragmented frame, use `newframe = frame.copy()`\n",
      "  df[labels] = res[labels]\n",
      "c:\\Users\\hzz6536\\Anaconda3\\envs\\psed\\lib\\site-packages\\matminer\\featurizers\\base.py:355: PerformanceWarning: DataFrame is highly fragmented.  This is usually the result of calling `frame.insert` many times, which has poor performance.  Consider joining all columns at once using pd.concat(axis=1) instead. To get a de-fragmented frame, use `newframe = frame.copy()`\n",
      "  df[labels] = res[labels]\n",
      "c:\\Users\\hzz6536\\Anaconda3\\envs\\psed\\lib\\site-packages\\matminer\\featurizers\\base.py:355: PerformanceWarning: DataFrame is highly fragmented.  This is usually the result of calling `frame.insert` many times, which has poor performance.  Consider joining all columns at once using pd.concat(axis=1) instead. To get a de-fragmented frame, use `newframe = frame.copy()`\n",
      "  df[labels] = res[labels]\n",
      "c:\\Users\\hzz6536\\Anaconda3\\envs\\psed\\lib\\site-packages\\matminer\\featurizers\\base.py:355: PerformanceWarning: DataFrame is highly fragmented.  This is usually the result of calling `frame.insert` many times, which has poor performance.  Consider joining all columns at once using pd.concat(axis=1) instead. To get a de-fragmented frame, use `newframe = frame.copy()`\n",
      "  df[labels] = res[labels]\n",
      "c:\\Users\\hzz6536\\Anaconda3\\envs\\psed\\lib\\site-packages\\matminer\\featurizers\\base.py:355: PerformanceWarning: DataFrame is highly fragmented.  This is usually the result of calling `frame.insert` many times, which has poor performance.  Consider joining all columns at once using pd.concat(axis=1) instead. To get a de-fragmented frame, use `newframe = frame.copy()`\n",
      "  df[labels] = res[labels]\n",
      "c:\\Users\\hzz6536\\Anaconda3\\envs\\psed\\lib\\site-packages\\matminer\\featurizers\\base.py:355: PerformanceWarning: DataFrame is highly fragmented.  This is usually the result of calling `frame.insert` many times, which has poor performance.  Consider joining all columns at once using pd.concat(axis=1) instead. To get a de-fragmented frame, use `newframe = frame.copy()`\n",
      "  df[labels] = res[labels]\n",
      "c:\\Users\\hzz6536\\Anaconda3\\envs\\psed\\lib\\site-packages\\matminer\\featurizers\\base.py:355: PerformanceWarning: DataFrame is highly fragmented.  This is usually the result of calling `frame.insert` many times, which has poor performance.  Consider joining all columns at once using pd.concat(axis=1) instead. To get a de-fragmented frame, use `newframe = frame.copy()`\n",
      "  df[labels] = res[labels]\n",
      "c:\\Users\\hzz6536\\Anaconda3\\envs\\psed\\lib\\site-packages\\matminer\\featurizers\\base.py:355: PerformanceWarning: DataFrame is highly fragmented.  This is usually the result of calling `frame.insert` many times, which has poor performance.  Consider joining all columns at once using pd.concat(axis=1) instead. To get a de-fragmented frame, use `newframe = frame.copy()`\n",
      "  df[labels] = res[labels]\n",
      "c:\\Users\\hzz6536\\Anaconda3\\envs\\psed\\lib\\site-packages\\matminer\\featurizers\\base.py:355: PerformanceWarning: DataFrame is highly fragmented.  This is usually the result of calling `frame.insert` many times, which has poor performance.  Consider joining all columns at once using pd.concat(axis=1) instead. To get a de-fragmented frame, use `newframe = frame.copy()`\n",
      "  df[labels] = res[labels]\n",
      "c:\\Users\\hzz6536\\Anaconda3\\envs\\psed\\lib\\site-packages\\matminer\\featurizers\\base.py:355: PerformanceWarning: DataFrame is highly fragmented.  This is usually the result of calling `frame.insert` many times, which has poor performance.  Consider joining all columns at once using pd.concat(axis=1) instead. To get a de-fragmented frame, use `newframe = frame.copy()`\n",
      "  df[labels] = res[labels]\n",
      "CompositionToOxidComposition: 100%|██████████| 19680/19680 [00:05<00:00, 3883.95it/s]\n",
      "OxidationStates: 100%|██████████| 19680/19680 [00:03<00:00, 5090.53it/s]\n",
      "StructureToOxidStructure: 100%|██████████| 19680/19680 [00:15<00:00, 1242.66it/s]\n",
      "EwaldEnergy: 100%|██████████| 19680/19680 [00:25<00:00, 781.08it/s] \n",
      "StructuralHeterogeneity: 100%|██████████| 19680/19680 [05:14<00:00, 62.63it/s] \n",
      "c:\\Users\\hzz6536\\Anaconda3\\envs\\psed\\lib\\site-packages\\matminer\\utils\\data.py:507: ParserWarning: Length of header or names does not match length of data. This leads to a loss of data with index_col=False.\n",
      "  self.params = pd.read_csv(\n",
      "c:\\Users\\hzz6536\\Anaconda3\\envs\\psed\\lib\\site-packages\\matminer\\utils\\data.py:556: FutureWarning: The frame.append method is deprecated and will be removed from pandas in a future version. Use pandas.concat instead.\n",
      "  new_params = self.params.append(new_data, sort=True, ignore_index=True)\n",
      "GlobalInstabilityIndex: 100%|██████████| 19680/19680 [01:00<00:00, 323.80it/s]\n",
      "Handbuilt Featurizer:  47%|████▋     | 9281/19680 [02:36<02:36, 66.62it/s]c:\\Users\\hzz6536\\Anaconda3\\envs\\psed\\lib\\site-packages\\pymatgen\\core\\periodic_table.py:213: UserWarning: No electronegativity for Ar. Setting to NaN. This has no physical meaning, and is mainly done to avoid errors caused by the code expecting a float.\n",
      "  warnings.warn(\n",
      "Handbuilt Featurizer:  48%|████▊     | 9448/19680 [02:39<02:03, 83.13it/s]c:\\Users\\hzz6536\\Anaconda3\\envs\\psed\\lib\\site-packages\\pymatgen\\core\\periodic_table.py:213: UserWarning: No electronegativity for Ar. Setting to NaN. This has no physical meaning, and is mainly done to avoid errors caused by the code expecting a float.\n",
      "  warnings.warn(\n",
      "Handbuilt Featurizer:  73%|███████▎  | 14351/19680 [04:04<01:22, 64.64it/s]c:\\Users\\hzz6536\\Anaconda3\\envs\\psed\\lib\\site-packages\\pymatgen\\core\\periodic_table.py:213: UserWarning: No electronegativity for He. Setting to NaN. This has no physical meaning, and is mainly done to avoid errors caused by the code expecting a float.\n",
      "  warnings.warn(\n",
      "Handbuilt Featurizer:  90%|█████████ | 17771/19680 [04:55<00:22, 85.55it/s]c:\\Users\\hzz6536\\Anaconda3\\envs\\psed\\lib\\site-packages\\pymatgen\\core\\periodic_table.py:213: UserWarning: No electronegativity for Ar. Setting to NaN. This has no physical meaning, and is mainly done to avoid errors caused by the code expecting a float.\n",
      "  warnings.warn(\n",
      "Handbuilt Featurizer: 100%|██████████| 19680/19680 [05:26<00:00, 60.36it/s] \n"
     ]
    }
   ],
   "source": [
    "df = composition_featurizer(df)\n",
    "df = structure_featurizer(df)\n",
    "df = handbuilt_featurizer(df)"
   ]
  },
  {
   "cell_type": "code",
   "execution_count": 9,
   "metadata": {},
   "outputs": [],
   "source": [
    "df_output = df.drop(columns=[\"structure\", \"structure_oxid\", \"composition\", \"composition_oxid\"])\n"
   ]
  },
  {
   "cell_type": "code",
   "execution_count": 11,
   "metadata": {},
   "outputs": [],
   "source": [
    "df_output.to_pickle('D:/PSED/Jarvis_features_uncleaned.pkl')"
   ]
  },
  {
   "cell_type": "markdown",
   "metadata": {},
   "source": [
    "## Data cleaning"
   ]
  },
  {
   "cell_type": "code",
   "execution_count": 2,
   "metadata": {},
   "outputs": [],
   "source": [
    "import pandas as pd\n",
    "import numpy as np\n",
    "df_output = pd.read_pickle('D:/PSED/Jarvis_features_uncleaned.pkl')"
   ]
  },
  {
   "cell_type": "code",
   "execution_count": 3,
   "metadata": {},
   "outputs": [],
   "source": [
    "correct_idx = np.zeros(len(df_output), dtype=int)\n",
    "for idx, row in df_output.iterrows():\n",
    "    correct_idx[idx] = int(df_output.loc[idx]['struct_file_path'][20:-4])\n",
    "df_correct = df_output.set_index(pd.Index(correct_idx))\n",
    "df_correct.dropna(axis=1, inplace=True)"
   ]
  },
  {
   "cell_type": "code",
   "execution_count": 4,
   "metadata": {},
   "outputs": [],
   "source": [
    "data_downselect = pd.read_pickle('D:/PSED/Jarvis_cfid/data_downselect.pkl')"
   ]
  },
  {
   "cell_type": "code",
   "execution_count": 5,
   "metadata": {},
   "outputs": [],
   "source": [
    "descriptors = df_correct.copy()\n",
    "for idx, row in df_correct.iterrows():\n",
    "    if not idx in data_downselect.index:\n",
    "        descriptors.drop(idx, inplace=True)\n",
    "descriptors.drop(columns=['struct_file_path', 'Label'], inplace=True)"
   ]
  },
  {
   "cell_type": "code",
   "execution_count": 6,
   "metadata": {},
   "outputs": [],
   "source": [
    "descriptors.to_pickle('D:/PSED/Jarvis_features.pkl')"
   ]
  }
 ],
 "metadata": {
  "kernelspec": {
   "display_name": "Python 3.10.4 ('psed')",
   "language": "python",
   "name": "python3"
  },
  "language_info": {
   "codemirror_mode": {
    "name": "ipython",
    "version": 3
   },
   "file_extension": ".py",
   "mimetype": "text/x-python",
   "name": "python",
   "nbconvert_exporter": "python",
   "pygments_lexer": "ipython3",
   "version": "3.10.4"
  },
  "orig_nbformat": 4,
  "vscode": {
   "interpreter": {
    "hash": "6f4af04230fbdd74c479ee1c082411a4aab073879095c4ca941420be88ee5e7e"
   }
  }
 },
 "nbformat": 4,
 "nbformat_minor": 2
}
