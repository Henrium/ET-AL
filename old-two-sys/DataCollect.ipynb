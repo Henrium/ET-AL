{
 "cells": [
  {
   "cell_type": "code",
   "execution_count": 1,
   "metadata": {},
   "outputs": [],
   "source": [
    "from pymatgen.ext.matproj import MPRester\n",
    "import itertools\n",
    "elems = {'Co', 'Ni', 'W', 'Al', 'Cr', 'Fe', 'Ti', 'Cu'}\n",
    "bin_syses = []\n",
    "ter_syses = []\n",
    "for els in itertools.combinations(elems, 2):\n",
    "    bin_syses.append(\"-\".join(sorted(els)))\n",
    "for els in itertools.combinations(elems, 3):\n",
    "    ter_syses.append(\"-\".join(sorted(els)))\n",
    "results = []\n",
    "with MPRester('qPup5BgsXVImhF74') as m:\n",
    "    results += m.get_entries({\"chemsys\": {\"$in\": bin_syses}})\n",
    "    results += m.get_entries({\"chemsys\": {\"$in\": ter_syses}})\n",
    "    # results = m.query(\"Co*\", ['pretty_formula', 'energy'])\n",
    "    # results = m.get_entries_in_chemsys(['Co', 'Al'])\n",
    "structures = []\n",
    "with MPRester('qPup5BgsXVImhF74') as m:\n",
    "    for els in bin_syses:\n",
    "        structures += m.get_structures(els)\n",
    "    for els in ter_syses:\n",
    "        structures += m.get_structures(els)\n",
    "    # structures += m.get_structures({\"chemsys\": {\"$in\": ter_syses}})"
   ]
  },
  {
   "cell_type": "markdown",
   "metadata": {},
   "source": [
    "## Use `query` to get manageable data"
   ]
  },
  {
   "cell_type": "code",
   "execution_count": 1,
   "metadata": {},
   "outputs": [],
   "source": [
    "from pymatgen.ext.matproj import MPRester\n",
    "import itertools\n",
    "# elems = {'Co', 'Al', 'W', 'Ni', 'Pb', 'Te'}\n",
    "elems = {'Co', 'Ni', 'W', 'Al', 'Cr', 'Fe', 'Ti', 'Cu'}\n",
    "# Binary, ternary combinations of the elements\n",
    "bin_syses = [list(els) for els in itertools.combinations(elems, 2)]\n",
    "ter_syses = [list(els) for els in itertools.combinations(elems, 3)]\n",
    "results = []\n",
    "with MPRester('qPup5BgsXVImhF74') as m:\n",
    "    properties = [\"formula\", \"pretty_formula\", \"nelements\", \"nsites\", \"volume\", \"spacegroup\", \"cif\", \n",
    "    \"formation_energy_per_atom\", \"e_above_hull\", \"band_gap\", \"dos\", \"energy\", \"energy_per_atom\", \"icsd_ids\"]  # structures is complex\n",
    "    for els in elems:\n",
    "        results += m.query(criteria={\"elements\": {\"$all\": [els]}, \"nelements\": 1}, properties=properties)\n",
    "    for bin_sys in bin_syses:\n",
    "        results += m.query(criteria={\"elements\": {\"$all\": bin_sys}, \"nelements\": 2}, properties=properties)\n",
    "    for ter_sys in ter_syses:\n",
    "        results += m.query(criteria={\"elements\": {\"$all\": ter_sys}, \"nelements\": 3}, properties=properties)"
   ]
  },
  {
   "cell_type": "markdown",
   "metadata": {},
   "source": [
    "## Save to json"
   ]
  },
  {
   "cell_type": "code",
   "execution_count": 5,
   "metadata": {},
   "outputs": [],
   "source": [
    "import json\n",
    "outpath = 'D:/PSED/DataCollect/MP/'\n",
    "name_cnt = {}\n",
    "for i in range(len(results)):\n",
    "    cur = results[i]\n",
    "    cur_formula = cur['pretty_formula']  # For file naming\n",
    "    # Add num to duplicate names\n",
    "    name_cnt[cur_formula] = name_cnt[cur_formula]+1 if cur_formula in name_cnt else 0\n",
    "    with open(outpath + cur['pretty_formula'] + '_' + str(name_cnt[cur_formula]) + '.json', 'w') as outfile:\n",
    "        json.dump(cur, outfile)\n"
   ]
  },
  {
   "cell_type": "code",
   "execution_count": 3,
   "metadata": {},
   "outputs": [
    {
     "data": {
      "text/plain": [
       "340"
      ]
     },
     "execution_count": 3,
     "metadata": {},
     "output_type": "execute_result"
    }
   ],
   "source": [
    "len(results)"
   ]
  },
  {
   "cell_type": "markdown",
   "metadata": {},
   "source": [
    "## Data preparation\n",
    "Load MP/OQMD data from `json` files and covert to `DataFrame`."
   ]
  },
  {
   "cell_type": "code",
   "execution_count": 6,
   "metadata": {},
   "outputs": [],
   "source": [
    "import os, json\n",
    "import pandas as pd\n",
    "mp_path = 'D:/PSED/DataCollect/MP/'\n",
    "\n",
    "mp_files = os.listdir(mp_path)\n",
    "\n",
    "\n",
    "# List of predictors and response. Energy is formation energy per atom (delta E).\n",
    "features = ['Co', 'Ni', 'W', 'Al', 'Cr', 'Fe', 'Ti', 'Cu', 'structure', 'volume', 'bandgap', 'natoms', 'ntypes', 'energy']\n",
    "\n",
    "# Organized as table.\n",
    "alloy_data = pd.DataFrame(columns=features)\n",
    "\n",
    "for idx, file in enumerate(mp_files):\n",
    "    with open(mp_path + file) as f:\n",
    "        data = json.load(f)\n",
    "        cur_entry = dict.fromkeys(features, 0)\n",
    "        for els in data['formula']:\n",
    "            cur_entry[els] = data['formula'][els]\n",
    "        cur_entry['structure'] = data['spacegroup']['symbol']\n",
    "        cur_entry['crystal_system'] = data['spacegroup']['crystal_system']\n",
    "        cur_entry['volume'] = data['volume']\n",
    "        cur_entry['bandgap'] = data['band_gap']\n",
    "        cur_entry['natoms'] = data['nsites']\n",
    "        cur_entry['ntypes'] = data['nelements']\n",
    "        cur_entry['energy'] = data['formation_energy_per_atom']\n",
    "        alloy_data = pd.concat([alloy_data, pd.DataFrame(cur_entry, index=[idx])])"
   ]
  },
  {
   "cell_type": "code",
   "execution_count": 7,
   "metadata": {},
   "outputs": [
    {
     "data": {
      "text/plain": [
       "{'formula': {'W': 1.0},\n",
       " 'pretty_formula': 'W',\n",
       " 'nelements': 1,\n",
       " 'nsites': 4,\n",
       " 'volume': 67.28638234722543,\n",
       " 'spacegroup': {'symprec': 0.1,\n",
       "  'source': 'spglib',\n",
       "  'symbol': 'Pbcm',\n",
       "  'number': 57,\n",
       "  'point_group': 'mmm',\n",
       "  'crystal_system': 'orthorhombic',\n",
       "  'hall': '-P 2c 2b'},\n",
       " 'cif': \"# generated using pymatgen\\ndata_W\\n_symmetry_space_group_name_H-M   'P 1'\\n_cell_length_a   2.80966200\\n_cell_length_b   4.86387000\\n_cell_length_c   4.92369500\\n_cell_angle_alpha   90.00000000\\n_cell_angle_beta   90.00000000\\n_cell_angle_gamma   90.00000000\\n_symmetry_Int_Tables_number   1\\n_chemical_formula_structural   W\\n_chemical_formula_sum   W4\\n_cell_volume   67.28638235\\n_cell_formula_units_Z   4\\nloop_\\n _symmetry_equiv_pos_site_id\\n _symmetry_equiv_pos_as_xyz\\n  1  'x, y, z'\\nloop_\\n _atom_site_type_symbol\\n _atom_site_label\\n _atom_site_symmetry_multiplicity\\n _atom_site_fract_x\\n _atom_site_fract_y\\n _atom_site_fract_z\\n _atom_site_occupancy\\n  W  W0  1  0.79317200  0.56315700  0.25000000  1\\n  W  W1  1  0.20682800  0.06315700  0.25000000  1\\n  W  W2  1  0.20682800  0.43684300  0.75000000  1\\n  W  W3  1  0.79317200  0.93684300  0.75000000  1\\n\",\n",
       " 'formation_energy_per_atom': 0.4913886025000007,\n",
       " 'e_above_hull': 0.4913886025000007,\n",
       " 'band_gap': 0.0,\n",
       " 'dos': {'GGA': {'task_id': 'mp-1698071'}},\n",
       " 'energy': -49.86695147,\n",
       " 'energy_per_atom': -12.4667378675,\n",
       " 'icsd_ids': [15905]}"
      ]
     },
     "execution_count": 7,
     "metadata": {},
     "output_type": "execute_result"
    }
   ],
   "source": [
    "alloy_data.to_csv('D:/PSED/MP_data.csv')\n",
    "data"
   ]
  },
  {
   "cell_type": "code",
   "execution_count": 4,
   "metadata": {},
   "outputs": [],
   "source": [
    "import chemparse\n",
    "oqmd_path = 'D:/PSED/DataCollect/OQMD/'\n",
    "oqmd_files = os.listdir(oqmd_path)\n",
    "\n",
    "alloy_data1 = pd.DataFrame(columns=features)\n",
    "oqmd_files = []\n",
    "for (dirpath, dirnames, filenames) in os.walk(oqmd_path):\n",
    "    for file in filenames:\n",
    "        if file.endswith('json'):\n",
    "            oqmd_files.append(os.path.join(dirpath, file))\n",
    "idx = 0\n",
    "for file in oqmd_files:\n",
    "    with open(file) as f:\n",
    "        dataset = json.load(f)['data']\n",
    "        for data in dataset:\n",
    "            formula = chemparse.parse_formula(data['name'])\n",
    "            cur_entry = dict.fromkeys(features, 0)\n",
    "            for els in formula:\n",
    "                cur_entry[els] = formula[els]\n",
    "            cur_entry['structure'] = data['spacegroup']\n",
    "            cur_entry['volume'] = data['volume']\n",
    "            cur_entry['bandgap'] = data['band_gap']\n",
    "            cur_entry['natoms'] = data['natoms']\n",
    "            cur_entry['ntypes'] = data['ntypes']\n",
    "            cur_entry['energy'] = data['delta_e']\n",
    "            alloy_data1 = pd.concat([alloy_data1, pd.DataFrame(cur_entry, index=[idx])])\n",
    "            idx += 1"
   ]
  },
  {
   "cell_type": "code",
   "execution_count": 5,
   "metadata": {},
   "outputs": [
    {
     "data": {
      "text/plain": [
       "{'name': 'CoW2',\n",
       " 'entry_id': 1487152,\n",
       " 'icsd_id': None,\n",
       " 'composition_generic': 'AB2',\n",
       " 'prototype': None,\n",
       " 'spacegroup': 'P63/mmc',\n",
       " 'volume': 386.695,\n",
       " 'ntypes': 2,\n",
       " 'natoms': 24,\n",
       " 'band_gap': 0.0,\n",
       " 'delta_e': 0.815423025,\n",
       " 'stability': 0.856845761252439}"
      ]
     },
     "execution_count": 5,
     "metadata": {},
     "output_type": "execute_result"
    }
   ],
   "source": [
    "data"
   ]
  },
  {
   "cell_type": "code",
   "execution_count": 13,
   "metadata": {},
   "outputs": [],
   "source": [
    "\n",
    "alloy_data1.to_csv('D:/PSED/OQMD_data.csv')"
   ]
  }
 ],
 "metadata": {
  "interpreter": {
   "hash": "ecefd881b42aafacb504ef73c4bb92951dad0de33f0165be917fa7d299351f1d"
  },
  "kernelspec": {
   "display_name": "Python 3.10.0 64-bit ('psed': conda)",
   "language": "python",
   "name": "python3"
  },
  "language_info": {
   "codemirror_mode": {
    "name": "ipython",
    "version": 3
   },
   "file_extension": ".py",
   "mimetype": "text/x-python",
   "name": "python",
   "nbconvert_exporter": "python",
   "pygments_lexer": "ipython3",
   "version": "3.10.0"
  },
  "orig_nbformat": 4
 },
 "nbformat": 4,
 "nbformat_minor": 2
}
