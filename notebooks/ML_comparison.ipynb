{
 "cells": [
  {
   "cell_type": "markdown",
   "metadata": {},
   "source": [
    "## Dataset preparation"
   ]
  },
  {
   "cell_type": "code",
   "execution_count": 1,
   "metadata": {},
   "outputs": [],
   "source": [
    "import numpy as np\n",
    "import pandas as pd\n",
    "from joblib import Parallel, delayed\n",
    "\n",
    "# ===== Load data; replace with your paths =====\n",
    "results_path = 'D:/ET-AL/Results/Jarvis_1000iters/'\n",
    "data_downselect = pd.read_pickle('D:/ET-AL/Jarvis_cfid/data_cleaned.pkl')\n",
    "descriptors_all = pd.read_pickle('D:/ET-AL/Jarvis_features.pkl').drop(columns=['Compound'])\n",
    "descriptors = descriptors_all.drop(columns=descriptors_all.columns[np.where(descriptors_all.var() == 0)])"
   ]
  },
  {
   "cell_type": "code",
   "execution_count": 2,
   "metadata": {},
   "outputs": [],
   "source": [
    "data_l = pd.read_pickle(results_path + 'data_l.pkl')  # Labeled dataset\n",
    "data_test = pd.read_pickle(results_path + 'data_test.pkl')  # Test set\n",
    "data_u = data_downselect.drop(index=data_l.index.union(data_test.index), inplace=False)  # Unlabeled dataset\n",
    "\n",
    "sample_path = np.load(results_path + 'sample_path.npy').astype(int)\n",
    "samples = sample_path[sample_path != 0]\n",
    "samples_etal = data_downselect.loc[samples]  # Samples selected by ET-AL\n",
    "samples_rand = data_u.sample(n=samples.shape[0], random_state=42)  # Randomly selected samples\n",
    "\n",
    "data_l_etal = pd.concat([data_l, samples_etal]) # Two training sets\n",
    "data_l_rand = pd.concat([data_l, samples_rand])"
   ]
  },
  {
   "cell_type": "code",
   "execution_count": 3,
   "metadata": {},
   "outputs": [],
   "source": [
    "# Featurize training and test sets\n",
    "x_etal= descriptors.loc[data_l_etal.index]\n",
    "x_rand = descriptors.loc[data_l_rand.index]\n",
    "x_test = descriptors.loc[data_test.index]\n",
    "\n",
    "# Responses: bulk and shear moduli\n",
    "B_etal = data_downselect.loc[data_l_etal.index]['bulk_modulus_kv']\n",
    "B_rand = data_downselect.loc[data_l_rand.index]['bulk_modulus_kv']\n",
    "B_test = data_downselect.loc[data_test.index]['bulk_modulus_kv']\n",
    "\n",
    "G_etal = data_downselect.loc[data_l_etal.index]['shear_modulus_gv']\n",
    "G_rand = data_downselect.loc[data_l_rand.index]['shear_modulus_gv']\n",
    "G_test = data_downselect.loc[data_test.index]['shear_modulus_gv']"
   ]
  },
  {
   "cell_type": "markdown",
   "metadata": {},
   "source": [
    "## SVM\n",
    "A support vector machine (SVM)-based ML pipeline.\n",
    "\n",
    "The material feature vector $x$ is first standardized, then reduced dimension by principal component analysis (PCA). The first 7 principal components are taken as the representation and input to an SVM model."
   ]
  },
  {
   "cell_type": "code",
   "execution_count": 170,
   "metadata": {},
   "outputs": [
    {
     "data": {
      "text/plain": [
       "Pipeline(steps=[('standardscaler', StandardScaler()),\n",
       "                ('pca', PCA(n_components=7)), ('svr', SVR(C=10))])"
      ]
     },
     "execution_count": 170,
     "metadata": {},
     "output_type": "execute_result"
    }
   ],
   "source": [
    "from sklearn.svm import SVR\n",
    "from sklearn.pipeline import make_pipeline\n",
    "from sklearn.preprocessing import StandardScaler\n",
    "from sklearn.decomposition import PCA\n",
    "\n",
    "n_rep = 10\n",
    "def train_svr_etal_B(i):\n",
    "    svr_etal_B = make_pipeline(StandardScaler(), PCA(n_components=7), SVR(C=10, kernel='rbf'))\n",
    "    svr_etal_B.fit(x_etal, B_etal)\n",
    "    return svr_etal_B.score(x_test, B_test)\n",
    "\n",
    "def train_svr_rand_B(i):\n",
    "    svr_rand_B = make_pipeline(StandardScaler(), PCA(n_components=7), SVR(C=10, kernel='rbf'))\n",
    "    svr_rand_B.fit(x_rand, B_rand)\n",
    "    return svr_rand_B.score(x_test, B_test)\n",
    "\n",
    "svr_r2_etal_B = Parallel(n_jobs=10)(delayed(train_svr_etal_B)(i) for i in range (n_rep))\n",
    "svr_r2_rand_B = Parallel(n_jobs=10)(delayed(train_svr_rand_B)(i) for i in range (n_rep))\n",
    "print(np.mean(svr_r2_etal_B) - np.mean(svr_r2_rand_B))"
   ]
  },
  {
   "cell_type": "markdown",
   "metadata": {},
   "source": [
    "Grid cross-validation (CV) search for hyperparameter tuning."
   ]
  },
  {
   "cell_type": "code",
   "execution_count": null,
   "metadata": {},
   "outputs": [
    {
     "data": {
      "text/plain": [
       "GridSearchCV(estimator=Pipeline(steps=[('scaler', StandardScaler()),\n",
       "                                       ('pca', PCA()), ('svr', SVR())]),\n",
       "             param_grid={'pca__n_components': [3, 5, 7, 9],\n",
       "                         'svr__C': [1, 5, 10],\n",
       "                         'svr__kernel': ('rbf', 'poly', 'sigmoid')})"
      ]
     },
     "metadata": {},
     "output_type": "display_data"
    }
   ],
   "source": [
    "from sklearn.model_selection import GridSearchCV\n",
    "from sklearn.pipeline import Pipeline\n",
    "svr = Pipeline([('scaler', StandardScaler()), ('pca', PCA()), ('svr', SVR())])\n",
    "parameters = {'svr__kernel':('rbf', 'poly', 'sigmoid'), 'svr__C': [1,5,10], 'pca__n_components': [3,5,7,9]}\n",
    "clf = GridSearchCV(svr, parameters)\n",
    "clf.fit(x_etal, B_etal)"
   ]
  },
  {
   "cell_type": "markdown",
   "metadata": {},
   "source": [
    "## AdaBoost\n",
    "The adaptive boosting model under default settings."
   ]
  },
  {
   "cell_type": "code",
   "execution_count": 4,
   "metadata": {},
   "outputs": [],
   "source": [
    "from sklearn.ensemble import AdaBoostRegressor\n",
    "n_rep = 30\n",
    "ab_r2_etal_G = np.zeros(n_rep)\n",
    "ab_r2_rand_G = np.zeros(n_rep)\n",
    "for i in range(n_rep):\n",
    "    ab_etal_G = AdaBoostRegressor(random_state=i).fit(x_etal, G_etal)\n",
    "    ab_rand_G = AdaBoostRegressor(random_state=i).fit(x_rand, G_rand)\n",
    "    ab_r2_rand_G[i] = ab_rand_G.score(x_test, G_test)\n",
    "    ab_r2_etal_G[i] = ab_etal_G.score(x_test, G_test)\n",
    "\n",
    "ab_r2_etal_B = np.zeros(n_rep)\n",
    "ab_r2_rand_B = np.zeros(n_rep)\n",
    "for i in range(n_rep):\n",
    "    ab_etal_B = AdaBoostRegressor(random_state=i).fit(x_etal, B_etal)\n",
    "    ab_rand_B = AdaBoostRegressor(random_state=i).fit(x_rand, B_rand)\n",
    "    ab_r2_rand_B[i] = ab_rand_B.score(x_test, B_test)\n",
    "    ab_r2_etal_B[i] = ab_etal_B.score(x_test, B_test)"
   ]
  },
  {
   "cell_type": "markdown",
   "metadata": {},
   "source": [
    "## Random Forest\n",
    "The random forest model under default settings."
   ]
  },
  {
   "cell_type": "code",
   "execution_count": 79,
   "metadata": {},
   "outputs": [],
   "source": [
    "from sklearn.ensemble import RandomForestRegressor\n",
    "n_rep = 30\n",
    "rf_r2_etal_G = np.zeros(n_rep)\n",
    "rf_r2_rand_G = np.zeros(n_rep)\n",
    "for i in range(n_rep):\n",
    "    rf_etal_G = RandomForestRegressor(random_state=i).fit(x_etal, G_etal)\n",
    "    rf_rand_G = RandomForestRegressor(random_state=i).fit(x_rand, G_rand)\n",
    "    rf_r2_rand_G[i] = rf_rand_G.score(x_test, G_test)\n",
    "    rf_r2_etal_G[i] = rf_etal_G.score(x_test, G_test)"
   ]
  },
  {
   "cell_type": "code",
   "execution_count": 80,
   "metadata": {},
   "outputs": [],
   "source": [
    "rf_r2_etal_B = np.zeros(n_rep)\n",
    "rf_r2_rand_B = np.zeros(n_rep)\n",
    "for i in range(n_rep):\n",
    "    rf_etal_B = RandomForestRegressor(random_state=i).fit(x_etal, B_etal)\n",
    "    rf_rand_B = RandomForestRegressor(random_state=i).fit(x_rand, B_rand)\n",
    "    rf_r2_rand_B[i] = rf_rand_B.score(x_test, B_test)\n",
    "    rf_r2_etal_B[i] = rf_etal_B.score(x_test, B_test)"
   ]
  },
  {
   "cell_type": "markdown",
   "metadata": {},
   "source": [
    "## Gradient Boost\n",
    "The gradient boosting model under default settings."
   ]
  },
  {
   "cell_type": "code",
   "execution_count": 44,
   "metadata": {},
   "outputs": [],
   "source": [
    "from sklearn.ensemble import GradientBoostingRegressor\n",
    "n_rep = 30\n",
    "gb_r2_etal_G = np.zeros(n_rep)\n",
    "gb_r2_rand_G = np.zeros(n_rep)\n",
    "for i in range(n_rep):\n",
    "    gb_etal_G = GradientBoostingRegressor(random_state=i).fit(x_etal, G_etal)\n",
    "    gb_rand_G = GradientBoostingRegressor(random_state=i).fit(x_rand, G_rand)\n",
    "    gb_r2_rand_G[i] = gb_rand_G.score(x_test, G_test)\n",
    "    gb_r2_etal_G[i] = gb_etal_G.score(x_test, G_test)"
   ]
  },
  {
   "cell_type": "code",
   "execution_count": 45,
   "metadata": {},
   "outputs": [],
   "source": [
    "gb_r2_etal_B = np.zeros(n_rep)\n",
    "gb_r2_rand_B = np.zeros(n_rep)\n",
    "for i in range(n_rep):\n",
    "    gb_etal_B = GradientBoostingRegressor(random_state=i).fit(x_etal, B_etal)\n",
    "    gb_rand_B = GradientBoostingRegressor(random_state=i).fit(x_rand, B_rand)\n",
    "    gb_r2_rand_B[i] = gb_rand_B.score(x_test, B_test)\n",
    "    gb_r2_etal_B[i] = gb_etal_B.score(x_test, B_test)"
   ]
  },
  {
   "cell_type": "markdown",
   "metadata": {},
   "source": [
    "## Neural Net\n",
    "A multi-layer perceptron (MLP) model with standardized materials features as input. Hyperparameters are tuned using Grid CV search."
   ]
  },
  {
   "cell_type": "code",
   "execution_count": 43,
   "metadata": {},
   "outputs": [
    {
     "data": {
      "text/plain": [
       "(0.01653454377793251, 0.0028510784907186393)"
      ]
     },
     "execution_count": 43,
     "metadata": {},
     "output_type": "execute_result"
    }
   ],
   "source": [
    "from sklearn.neural_network import MLPRegressor\n",
    "from joblib import Parallel, delayed\n",
    "from sklearn.preprocessing import StandardScaler\n",
    "from sklearn.pipeline import make_pipeline\n",
    "n_rep = 30\n",
    "hidden_size = (128,)\n",
    "batch_size = 32\n",
    "max_iter = 500\n",
    "alpha = 0.1\n",
    "# learning_rate_init = 0.001\n",
    "activation = 'relu'\n",
    "\n",
    "def train_nn_etal_B(i):\n",
    "    nn_etal_B = make_pipeline(StandardScaler(), MLPRegressor(hidden_layer_sizes=hidden_size, random_state=i, early_stopping=True, alpha=alpha, batch_size=batch_size,\n",
    "    max_iter=max_iter, activation=activation))\n",
    "    nn_etal_B.fit(x_etal, B_etal)\n",
    "    return nn_etal_B.score(x_test, B_test)\n",
    "\n",
    "def train_nn_rand_B(i):\n",
    "    nn_rand_B = make_pipeline(StandardScaler(), MLPRegressor(hidden_layer_sizes=hidden_size, random_state=i, early_stopping=True, alpha=alpha, batch_size=batch_size,\n",
    "    max_iter=max_iter, activation=activation))\n",
    "    nn_rand_B.fit(x_rand, B_rand)\n",
    "    return nn_rand_B.score(x_test, B_test)\n",
    "\n",
    "nn_r2_etal_B = Parallel(n_jobs=10)(delayed(train_nn_etal_B)(i) for i in range (n_rep))\n",
    "nn_r2_rand_B = Parallel(n_jobs=10)(delayed(train_nn_rand_B)(i) for i in range (n_rep))\n",
    "\n",
    "\n",
    "def train_nn_etal_G(i):\n",
    "    \n",
    "    nn_etal_G = make_pipeline(StandardScaler(), MLPRegressor(hidden_layer_sizes=hidden_size, random_state=i, early_stopping=True, alpha=alpha, batch_size=batch_size,\n",
    "    max_iter=max_iter, activation=activation))\n",
    "    nn_etal_G.fit(x_etal, G_etal)\n",
    "    return nn_etal_G.score(x_test, G_test)\n",
    "\n",
    "def train_nn_rand_G(i):\n",
    "    nn_rand_G = make_pipeline(StandardScaler(), MLPRegressor(hidden_layer_sizes=hidden_size, random_state=i, early_stopping=True, alpha=alpha, batch_size=batch_size,\n",
    "    max_iter=max_iter, activation=activation))\n",
    "    nn_rand_G.fit(x_rand, G_rand)\n",
    "    return nn_rand_G.score(x_test, G_test)\n",
    "\n",
    "nn_r2_etal_G = Parallel(n_jobs=10)(delayed(train_nn_etal_G)(i) for i in range (n_rep))\n",
    "nn_r2_rand_G = Parallel(n_jobs=10)(delayed(train_nn_rand_G)(i) for i in range (n_rep))"
   ]
  },
  {
   "cell_type": "markdown",
   "metadata": {},
   "source": [
    "Grid CV search for NN hyperparameter tuning."
   ]
  },
  {
   "cell_type": "code",
   "execution_count": 36,
   "metadata": {},
   "outputs": [
    {
     "name": "stdout",
     "output_type": "stream",
     "text": [
      "Fitting 5 folds for each of 18 candidates, totalling 90 fits\n"
     ]
    },
    {
     "data": {
      "text/plain": [
       "{'mlp__activation': 'tanh',\n",
       " 'mlp__alpha': 0.1,\n",
       " 'mlp__hidden_layer_sizes': (128,)}"
      ]
     },
     "execution_count": 36,
     "metadata": {},
     "output_type": "execute_result"
    }
   ],
   "source": [
    "from sklearn.model_selection import GridSearchCV\n",
    "from sklearn.pipeline import Pipeline\n",
    "nn = Pipeline([('scaler', StandardScaler()), ('mlp', MLPRegressor(early_stopping=True, max_iter=500, batch_size=32))])\n",
    "parameters = {'mlp__alpha': [0.01, 0.05, 0.1],\n",
    "              'mlp__activation': ('tanh', 'relu'),\n",
    "              'mlp__hidden_layer_sizes': ((128,), (64,64), (128,128))\n",
    "             }\n",
    "clf = GridSearchCV(nn, parameters, verbose=3, n_jobs=-1)\n",
    "clf.fit(x_etal, B_etal)\n",
    "clf.best_params_"
   ]
  },
  {
   "cell_type": "markdown",
   "metadata": {},
   "source": [
    "## Make plot"
   ]
  },
  {
   "cell_type": "code",
   "execution_count": 4,
   "metadata": {},
   "outputs": [
    {
     "data": {
      "image/png": "[encoded data removed]",
      "text/plain": [
       "<Figure size 432x288 with 1 Axes>"
      ]
     },
     "metadata": {},
     "output_type": "display_data"
    }
   ],
   "source": [
    "import seaborn as sns\n",
    "import matplotlib.pyplot as plt\n",
    "results = pd.read_pickle('D:/ET-AL/Results/ML/ML_r2_all.pkl')\n",
    "sns.set_theme(style=\"ticks\", palette='pastel', font_scale=1.5)\n",
    "sns.boxplot(x='Model', y='R^2', hue='Dataset', data=results[(results['Target'] == 'B') & (results['Model'] != 'Neural Network')])\n",
    "plt.title('Bulk Modulus')\n",
    "plt.savefig('D:/ET-AL/plots/r2_B.svg', bbox_inches='tight')"
   ]
  },
  {
   "cell_type": "code",
   "execution_count": 6,
   "metadata": {},
   "outputs": [
    {
     "data": {
      "image/png": "[encoded data removed]",
      "text/plain": [
       "<Figure size 432x288 with 1 Axes>"
      ]
     },
     "metadata": {},
     "output_type": "display_data"
    }
   ],
   "source": [
    "sns.set_theme(style=\"ticks\", palette='pastel', font_scale=1.5)\n",
    "sns.boxplot(x='Model', y='R^2', hue='Dataset', data=results[(results['Target'] == 'G') & (results['Model'] != 'Neural Network')])\n",
    "plt.title('Shear Modulus')\n",
    "plt.ylabel('')\n",
    "plt.savefig('D:/ET-AL/plots/r2_G.svg', bbox_inches='tight')\n",
    "# plt.savefig('D:/ET-AL/plots/r2_G.png', dpi=200, bbox_inches='tight')"
   ]
  }
 ],
 "metadata": {
  "kernelspec": {
   "display_name": "Python 3.9.7 ('base')",
   "language": "python",
   "name": "python3"
  },
  "language_info": {
   "codemirror_mode": {
    "name": "ipython",
    "version": 3
   },
   "file_extension": ".py",
   "mimetype": "text/x-python",
   "name": "python",
   "nbconvert_exporter": "python",
   "pygments_lexer": "ipython3",
   "version": "3.9.13"
  },
  "orig_nbformat": 4,
  "vscode": {
   "interpreter": {
    "hash": "6f66a74a78460c2692b274b48ce17214f5eb55d57c3113b770dcb94e4d958ddf"
   }
  }
 },
 "nbformat": 4,
 "nbformat_minor": 2
}
