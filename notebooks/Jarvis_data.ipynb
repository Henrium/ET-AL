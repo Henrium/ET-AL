{
 "cells": [
  {
   "cell_type": "markdown",
   "metadata": {},
   "source": [
    "## Read Jarvis CFID data\n",
    "Read the CFID data in its original `json` format and save to `pkl`."
   ]
  },
  {
   "cell_type": "code",
   "execution_count": null,
   "metadata": {},
   "outputs": [],
   "source": [
    "import os, json\n",
    "import pandas as pd\n",
    "import numpy as np\n",
    "import pickle\n",
    "\n",
    "f = open(os.path.join('D:\\\\', 'ET-AL', 'Jarvis_cfid', 'd3-5-16-2021.json'), 'r')\n",
    "data3d = json.load(f)\n",
    "f.close()\n",
    "\n",
    "df = pd.DataFrame(data3d)\n",
    "df.to_pickle('D:/PSED/jarvis_cfid.pkl')"
   ]
  },
  {
   "cell_type": "markdown",
   "metadata": {},
   "source": [
    "## Data cleaning"
   ]
  },
  {
   "cell_type": "code",
   "execution_count": 5,
   "metadata": {},
   "outputs": [],
   "source": [
    "import pandas as pd\n",
    "import numpy as np\n",
    "\n",
    "import matplotlib.pyplot as plt\n",
    "data = pd.read_pickle('D:/ET-AL/Jarvis_cfid/jarvis_cfid.pkl')  # Replace with your path\n",
    "data_w_modulus = data.copy()\n",
    "\n",
    "# Remove entries with 0 or N/A moduli\n",
    "data_w_modulus.drop(data_w_modulus[data_w_modulus['bulk_modulus_kv'] == 'na'].index, inplace=True)\n",
    "data_w_modulus.drop(data_w_modulus[data_w_modulus['shear_modulus_gv'] == 'na'].index, inplace=True)\n",
    "data_w_modulus.drop(data_w_modulus[data_w_modulus['bulk_modulus_kv'] <= 0].index, inplace=True)\n",
    "data_w_modulus.drop(data_w_modulus[data_w_modulus['shear_modulus_gv'] <= 0].index, inplace=True)"
   ]
  },
  {
   "cell_type": "markdown",
   "metadata": {},
   "source": [
    "### Graph embeddings\n",
    "Prepare `id_prop.csv` and `cif` files for CGCNN, get the graph embeddings of materials with modulus"
   ]
  },
  {
   "cell_type": "code",
   "execution_count": null,
   "metadata": {},
   "outputs": [],
   "source": [
    "id_prop = pd.DataFrame(index=data_w_modulus.index)\n",
    "id_prop['props'] = data_w_modulus.formation_energy_peratom\n",
    "id_prop.to_csv('id_prop.csv')\n",
    "\n",
    "from jarvis.core.atoms import Atoms\n",
    "for ind in data_w_modulus.index:\n",
    "    Atoms.from_dict(data_w_modulus.atoms[ind]).write_cif('D:/ET-AL/jarvis_cifs/'+str(ind)+'.cif')"
   ]
  },
  {
   "cell_type": "code",
   "execution_count": 19,
   "metadata": {},
   "outputs": [],
   "source": [
    "import pandas as pd\n",
    "cgcnn_features = pd.read_pickle('D:/ET-AL/Jarvis_cfid/cgcnn_features.pkl')\n",
    "cgcnn_features.set_index('cif_id', inplace=True)\n",
    "cgcnn_features.index = cgcnn_features.index.astype('int')\n",
    "cgcnn_features.index.name = None\n",
    "\n",
    "cgcnn_features = cgcnn_features.sort_index()\n",
    "cgcnn_features.to_pickle('cgcnn_features_sorted.pkl')"
   ]
  },
  {
   "cell_type": "markdown",
   "metadata": {},
   "source": [
    "Down select according to elements of interest or other criteria."
   ]
  },
  {
   "cell_type": "code",
   "execution_count": 7,
   "metadata": {},
   "outputs": [],
   "source": [
    "data_downselect = data_w_modulus.copy()\n",
    "# Remove compounds containing the following elements\n",
    "for idx in data_downselect.index:\n",
    "    if not set(data_downselect.atoms[idx]['elements']).isdisjoint({'H', 'F', 'Cl', 'Br', 'I', 'At', 'He', 'Ne', 'Ar', 'Kr', 'Xe', 'Rn',\n",
    "    'La', 'Ce', 'Pr', 'Nd', 'Pm', 'Sm', 'Eu', 'Gd', 'Tb', 'Dy', 'Ho', 'Er', 'Tm', 'Yb', 'Lu', 'Tc',\n",
    "    'Ac', 'Th', 'Pa', 'U', 'Np', 'Pu', 'Am', 'Cm', 'Bk', 'Cf', 'Es', 'Fm', 'Md', 'No', 'Lr'}):\n",
    "        data_downselect.drop(idx, inplace=True)\n",
    "\n",
    "data_downselect.to_pickle('D:/ET-AL/Jarvis_cfid/data_cleaned.pkl')"
   ]
  },
  {
   "cell_type": "code",
   "execution_count": 9,
   "metadata": {},
   "outputs": [],
   "source": [
    "# Obtain the graph embeddings\n",
    "cgcnn_features = pd.read_pickle('D:/PSED/Jarvis_cfid/cgcnn_features_sorted.pkl')\n",
    "cgcnn_features.sort_index()\n",
    "cgcnn_features_down = cgcnn_features.loc[data_downselect.index]"
   ]
  }
 ],
 "metadata": {
  "kernelspec": {
   "display_name": "Python 3.9.7 ('base')",
   "language": "python",
   "name": "python3"
  },
  "language_info": {
   "codemirror_mode": {
    "name": "ipython",
    "version": 3
   },
   "file_extension": ".py",
   "mimetype": "text/x-python",
   "name": "python",
   "nbconvert_exporter": "python",
   "pygments_lexer": "ipython3",
   "version": "3.9.13"
  },
  "orig_nbformat": 4,
  "vscode": {
   "interpreter": {
    "hash": "6f66a74a78460c2692b274b48ce17214f5eb55d57c3113b770dcb94e4d958ddf"
   }
  }
 },
 "nbformat": 4,
 "nbformat_minor": 2
}
