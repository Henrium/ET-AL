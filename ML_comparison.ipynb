{
 "cells": [
  {
   "cell_type": "markdown",
   "metadata": {},
   "source": [
    "## Dataset preparation"
   ]
  },
  {
   "cell_type": "code",
   "execution_count": 1,
   "metadata": {},
   "outputs": [],
   "source": [
    "import numpy as np\n",
    "import pandas as pd\n",
    "from joblib import Parallel, delayed\n",
    "\n",
    "# ===== Load data; replace with your paths =====\n",
    "data_dir = './datasets/'\n",
    "result_dir = './results/'\n",
    "data_cleaned = pd.read_pickle(data_dir+'data_cleaned.pkl')\n",
    "descriptors_all = pd.read_pickle(data_dir+'Jarvis_features.pkl').drop(columns=['Compound'])\n",
    "descriptors = descriptors_all.drop(columns=descriptors_all.columns[np.where(descriptors_all.var() == 0)])"
   ]
  },
  {
   "cell_type": "code",
   "execution_count": 2,
   "metadata": {},
   "outputs": [],
   "source": [
    "data_l_idx = np.loadtxt(result_dir + 'data_l.csv', dtype='int', delimiter=',')\n",
    "data_l = data_cleaned.loc[data_l_idx]  # Labeled dataset\n",
    "data_test_idx = np.loadtxt(result_dir + 'data_test.csv', dtype='int', delimiter=',')\n",
    "data_test = data_cleaned.loc[data_test_idx]  # Test set\n",
    "data_u = data_cleaned.drop(index=np.union1d(data_l_idx, data_test_idx), inplace=False)  # Unlabeled dataset\n",
    "\n",
    "sample_path = np.loadtxt(result_dir + 'sample_path.csv', dtype='int', delimiter=',')\n",
    "samples = sample_path[sample_path != 0]\n",
    "samples_rand = data_u.sample(n=samples.shape[0], random_state=42)  # Randomly selected samples\n",
    "\n",
    "data_l_etal_idx = np.concatenate((data_l_idx, samples)) # Two training sets\n",
    "data_l_rand = pd.concat([data_l, samples_rand])"
   ]
  },
  {
   "cell_type": "code",
   "execution_count": 3,
   "metadata": {},
   "outputs": [],
   "source": [
    "# Featurize training and test sets\n",
    "x_etal= descriptors.loc[data_l_etal_idx]\n",
    "x_rand = descriptors.loc[data_l_rand.index]\n",
    "x_test = descriptors.loc[data_test_idx]\n",
    "\n",
    "# Responses: bulk and shear moduli\n",
    "B_etal = data_cleaned.loc[data_l_etal_idx]['bulk_modulus_kv']\n",
    "B_rand = data_cleaned.loc[data_l_rand.index]['bulk_modulus_kv']\n",
    "B_test = data_cleaned.loc[data_test_idx]['bulk_modulus_kv']\n",
    "\n",
    "G_etal = data_cleaned.loc[data_l_etal_idx]['shear_modulus_gv']\n",
    "G_rand = data_cleaned.loc[data_l_rand.index]['shear_modulus_gv']\n",
    "G_test = data_cleaned.loc[data_test_idx]['shear_modulus_gv']"
   ]
  },
  {
   "cell_type": "markdown",
   "metadata": {},
   "source": [
    "## SVM\n",
    "A support vector machine (SVM)-based ML pipeline.\n",
    "\n",
    "The material feature vector $x$ is first standardized, then reduced dimension by principal component analysis (PCA). The first 7 principal components are taken as the representation and input to an SVM model."
   ]
  },
  {
   "cell_type": "code",
   "execution_count": 4,
   "metadata": {},
   "outputs": [],
   "source": [
    "from sklearn.svm import SVR\n",
    "from sklearn.pipeline import make_pipeline\n",
    "from sklearn.preprocessing import StandardScaler\n",
    "from sklearn.decomposition import PCA\n",
    "\n",
    "n_rep = 10\n",
    "def train_svr_etal_B(i):\n",
    "    svr_etal_B = make_pipeline(StandardScaler(), PCA(n_components=7), SVR(C=10, kernel='rbf'))\n",
    "    svr_etal_B.fit(x_etal, B_etal)\n",
    "    return svr_etal_B.score(x_test, B_test)\n",
    "\n",
    "def train_svr_rand_B(i):\n",
    "    svr_rand_B = make_pipeline(StandardScaler(), PCA(n_components=7), SVR(C=10, kernel='rbf'))\n",
    "    svr_rand_B.fit(x_rand, B_rand)\n",
    "    return svr_rand_B.score(x_test, B_test)\n",
    "\n",
    "svr_r2_etal_B = Parallel(n_jobs=10)(delayed(train_svr_etal_B)(i) for i in range (n_rep))\n",
    "svr_r2_rand_B = Parallel(n_jobs=10)(delayed(train_svr_rand_B)(i) for i in range (n_rep))"
   ]
  },
  {
   "cell_type": "markdown",
   "metadata": {},
   "source": [
    "Grid cross-validation (CV) search for hyperparameter tuning."
   ]
  },
  {
   "cell_type": "code",
   "execution_count": 5,
   "metadata": {},
   "outputs": [
    {
     "data": {
      "text/plain": [
       "GridSearchCV(estimator=Pipeline(steps=[('scaler', StandardScaler()),\n",
       "                                       ('pca', PCA()), ('svr', SVR())]),\n",
       "             param_grid={'pca__n_components': [3, 5, 7, 9],\n",
       "                         'svr__C': [1, 5, 10],\n",
       "                         'svr__kernel': ('rbf', 'poly', 'sigmoid')})"
      ]
     },
     "execution_count": 5,
     "metadata": {},
     "output_type": "execute_result"
    }
   ],
   "source": [
    "from sklearn.model_selection import GridSearchCV\n",
    "from sklearn.pipeline import Pipeline\n",
    "svr = Pipeline([('scaler', StandardScaler()), ('pca', PCA()), ('svr', SVR())])\n",
    "parameters = {'svr__kernel':('rbf', 'poly', 'sigmoid'), 'svr__C': [1,5,10], 'pca__n_components': [3,5,7,9]}\n",
    "clf = GridSearchCV(svr, parameters)\n",
    "clf.fit(x_etal, B_etal)"
   ]
  },
  {
   "cell_type": "markdown",
   "metadata": {},
   "source": [
    "## AdaBoost\n",
    "The adaptive boosting model under default settings."
   ]
  },
  {
   "cell_type": "code",
   "execution_count": 6,
   "metadata": {},
   "outputs": [],
   "source": [
    "from sklearn.ensemble import AdaBoostRegressor\n",
    "n_rep = 30\n",
    "ab_r2_etal_G = np.zeros(n_rep)\n",
    "ab_r2_rand_G = np.zeros(n_rep)\n",
    "for i in range(n_rep):\n",
    "    ab_etal_G = AdaBoostRegressor(random_state=i).fit(x_etal, G_etal)\n",
    "    ab_rand_G = AdaBoostRegressor(random_state=i).fit(x_rand, G_rand)\n",
    "    ab_r2_rand_G[i] = ab_rand_G.score(x_test, G_test)\n",
    "    ab_r2_etal_G[i] = ab_etal_G.score(x_test, G_test)\n",
    "\n",
    "ab_r2_etal_B = np.zeros(n_rep)\n",
    "ab_r2_rand_B = np.zeros(n_rep)\n",
    "for i in range(n_rep):\n",
    "    ab_etal_B = AdaBoostRegressor(random_state=i).fit(x_etal, B_etal)\n",
    "    ab_rand_B = AdaBoostRegressor(random_state=i).fit(x_rand, B_rand)\n",
    "    ab_r2_rand_B[i] = ab_rand_B.score(x_test, B_test)\n",
    "    ab_r2_etal_B[i] = ab_etal_B.score(x_test, B_test)"
   ]
  },
  {
   "cell_type": "markdown",
   "metadata": {},
   "source": [
    "## Random Forest\n",
    "The random forest model under default settings."
   ]
  },
  {
   "cell_type": "code",
   "execution_count": 7,
   "metadata": {},
   "outputs": [],
   "source": [
    "from sklearn.ensemble import RandomForestRegressor\n",
    "n_rep = 30\n",
    "rf_r2_etal_G = np.zeros(n_rep)\n",
    "rf_r2_rand_G = np.zeros(n_rep)\n",
    "for i in range(n_rep):\n",
    "    rf_etal_G = RandomForestRegressor(random_state=i).fit(x_etal, G_etal)\n",
    "    rf_rand_G = RandomForestRegressor(random_state=i).fit(x_rand, G_rand)\n",
    "    rf_r2_rand_G[i] = rf_rand_G.score(x_test, G_test)\n",
    "    rf_r2_etal_G[i] = rf_etal_G.score(x_test, G_test)"
   ]
  },
  {
   "cell_type": "code",
   "execution_count": 8,
   "metadata": {},
   "outputs": [],
   "source": [
    "rf_r2_etal_B = np.zeros(n_rep)\n",
    "rf_r2_rand_B = np.zeros(n_rep)\n",
    "for i in range(n_rep):\n",
    "    rf_etal_B = RandomForestRegressor(random_state=i).fit(x_etal, B_etal)\n",
    "    rf_rand_B = RandomForestRegressor(random_state=i).fit(x_rand, B_rand)\n",
    "    rf_r2_rand_B[i] = rf_rand_B.score(x_test, B_test)\n",
    "    rf_r2_etal_B[i] = rf_etal_B.score(x_test, B_test)"
   ]
  },
  {
   "cell_type": "markdown",
   "metadata": {},
   "source": [
    "Find most improved samples"
   ]
  },
  {
   "cell_type": "code",
   "execution_count": 9,
   "metadata": {},
   "outputs": [
    {
     "data": {
      "text/plain": [
       "Int64Index([46765, 23728, 34293, 34426, 30965, 28127, 46717, 25633, 14748,\n",
       "            43441,  8207, 11056,  1746, 27800, 30292, 21453, 10206,   137,\n",
       "            28088, 29501, 48768,  3023, 29654, 26960, 45133, 37918, 26799,\n",
       "            10468,  7174, 38194],\n",
       "           dtype='int64')"
      ]
     },
     "execution_count": 9,
     "metadata": {},
     "output_type": "execute_result"
    }
   ],
   "source": [
    "errors = (rf_etal_G.predict(x_test) - G_test) - (rf_rand_G.predict(x_test) - G_test)\n",
    "rf_G_largest_errors = errors.astype('float').nlargest(30).index\n",
    "rf_G_largest_errors\n",
    "\n",
    "errors = (rf_etal_B.predict(x_test) - B_test) - (rf_rand_B.predict(x_test) - B_test)\n",
    "rf_B_largest_errors = errors.astype('float').nlargest(30).index\n",
    "rf_B_largest_errors"
   ]
  },
  {
   "cell_type": "markdown",
   "metadata": {},
   "source": [
    "## Gradient Boost\n",
    "The gradient boosting model under default settings."
   ]
  },
  {
   "cell_type": "code",
   "execution_count": 10,
   "metadata": {},
   "outputs": [],
   "source": [
    "from sklearn.ensemble import GradientBoostingRegressor\n",
    "n_rep = 30\n",
    "gb_r2_etal_G = np.zeros(n_rep)\n",
    "gb_r2_rand_G = np.zeros(n_rep)\n",
    "for i in range(n_rep):\n",
    "    gb_etal_G = GradientBoostingRegressor(random_state=i).fit(x_etal, G_etal)\n",
    "    gb_rand_G = GradientBoostingRegressor(random_state=i).fit(x_rand, G_rand)\n",
    "    gb_r2_rand_G[i] = gb_rand_G.score(x_test, G_test)\n",
    "    gb_r2_etal_G[i] = gb_etal_G.score(x_test, G_test)"
   ]
  },
  {
   "cell_type": "code",
   "execution_count": 11,
   "metadata": {},
   "outputs": [],
   "source": [
    "gb_r2_etal_B = np.zeros(n_rep)\n",
    "gb_r2_rand_B = np.zeros(n_rep)\n",
    "for i in range(n_rep):\n",
    "    gb_etal_B = GradientBoostingRegressor(random_state=i).fit(x_etal, B_etal)\n",
    "    gb_rand_B = GradientBoostingRegressor(random_state=i).fit(x_rand, B_rand)\n",
    "    gb_r2_rand_B[i] = gb_rand_B.score(x_test, B_test)\n",
    "    gb_r2_etal_B[i] = gb_etal_B.score(x_test, B_test)"
   ]
  },
  {
   "cell_type": "markdown",
   "metadata": {},
   "source": [
    "Find most improved samples"
   ]
  },
  {
   "cell_type": "code",
   "execution_count": 12,
   "metadata": {},
   "outputs": [
    {
     "data": {
      "text/plain": [
       "Int64Index([34293, 34426, 46765, 23728, 35229, 29605, 23502, 13426, 40548,\n",
       "             3023, 13812,   137, 14748, 43441, 38003, 25087,  9198, 32778,\n",
       "            20682, 23071, 24874, 35004, 21786, 24957, 28127,  8883,  4532,\n",
       "            35921, 13011, 40290],\n",
       "           dtype='int64')"
      ]
     },
     "execution_count": 12,
     "metadata": {},
     "output_type": "execute_result"
    }
   ],
   "source": [
    "errors = (gb_etal_B.predict(x_test) - B_test) - (gb_rand_B.predict(x_test) - B_test)\n",
    "gb_B_largest_errors = errors.astype('float').nlargest(30).index\n",
    "gb_B_largest_errors\n",
    "\n",
    "errors = (gb_etal_G.predict(x_test) - G_test) - (gb_rand_G.predict(x_test) - G_test)\n",
    "gb_G_largest_errors = errors.astype('float').nlargest(30).index\n",
    "gb_G_largest_errors"
   ]
  },
  {
   "cell_type": "markdown",
   "metadata": {},
   "source": [
    "## Neural Net\n",
    "A multi-layer perceptron (MLP) model with standardized materials features as input. Hyperparameters are tuned using Grid CV search."
   ]
  },
  {
   "cell_type": "code",
   "execution_count": 13,
   "metadata": {},
   "outputs": [],
   "source": [
    "from sklearn.neural_network import MLPRegressor\n",
    "from joblib import Parallel, delayed\n",
    "from sklearn.preprocessing import StandardScaler\n",
    "from sklearn.pipeline import make_pipeline\n",
    "n_rep = 30\n",
    "hidden_size = (128,)\n",
    "batch_size = 32\n",
    "max_iter = 500\n",
    "alpha = 0.1\n",
    "# learning_rate_init = 0.001\n",
    "activation = 'relu'\n",
    "\n",
    "def train_nn_etal_B(i):\n",
    "    nn_etal_B = make_pipeline(StandardScaler(), MLPRegressor(hidden_layer_sizes=hidden_size, random_state=i, early_stopping=True, alpha=alpha, batch_size=batch_size,\n",
    "    max_iter=max_iter, activation=activation))\n",
    "    nn_etal_B.fit(x_etal, B_etal)\n",
    "    return nn_etal_B.score(x_test, B_test)\n",
    "\n",
    "def train_nn_rand_B(i):\n",
    "    nn_rand_B = make_pipeline(StandardScaler(), MLPRegressor(hidden_layer_sizes=hidden_size, random_state=i, early_stopping=True, alpha=alpha, batch_size=batch_size,\n",
    "    max_iter=max_iter, activation=activation))\n",
    "    nn_rand_B.fit(x_rand, B_rand)\n",
    "    return nn_rand_B.score(x_test, B_test)\n",
    "\n",
    "nn_r2_etal_B = Parallel(n_jobs=10)(delayed(train_nn_etal_B)(i) for i in range (n_rep))\n",
    "nn_r2_rand_B = Parallel(n_jobs=10)(delayed(train_nn_rand_B)(i) for i in range (n_rep))\n",
    "\n",
    "\n",
    "def train_nn_etal_G(i):\n",
    "    \n",
    "    nn_etal_G = make_pipeline(StandardScaler(), MLPRegressor(hidden_layer_sizes=hidden_size, random_state=i, early_stopping=True, alpha=alpha, batch_size=batch_size,\n",
    "    max_iter=max_iter, activation=activation))\n",
    "    nn_etal_G.fit(x_etal, G_etal)\n",
    "    return nn_etal_G.score(x_test, G_test)\n",
    "\n",
    "def train_nn_rand_G(i):\n",
    "    nn_rand_G = make_pipeline(StandardScaler(), MLPRegressor(hidden_layer_sizes=hidden_size, random_state=i, early_stopping=True, alpha=alpha, batch_size=batch_size,\n",
    "    max_iter=max_iter, activation=activation))\n",
    "    nn_rand_G.fit(x_rand, G_rand)\n",
    "    return nn_rand_G.score(x_test, G_test)\n",
    "\n",
    "nn_r2_etal_G = Parallel(n_jobs=10)(delayed(train_nn_etal_G)(i) for i in range (n_rep))\n",
    "nn_r2_rand_G = Parallel(n_jobs=10)(delayed(train_nn_rand_G)(i) for i in range (n_rep))"
   ]
  },
  {
   "cell_type": "markdown",
   "metadata": {},
   "source": [
    "Grid CV search for NN hyperparameter tuning."
   ]
  },
  {
   "cell_type": "code",
   "execution_count": 14,
   "metadata": {},
   "outputs": [
    {
     "name": "stdout",
     "output_type": "stream",
     "text": [
      "Fitting 5 folds for each of 18 candidates, totalling 90 fits\n"
     ]
    },
    {
     "data": {
      "text/plain": [
       "{'mlp__activation': 'tanh',\n",
       " 'mlp__alpha': 0.1,\n",
       " 'mlp__hidden_layer_sizes': (128,)}"
      ]
     },
     "execution_count": 14,
     "metadata": {},
     "output_type": "execute_result"
    }
   ],
   "source": [
    "from sklearn.model_selection import GridSearchCV\n",
    "from sklearn.pipeline import Pipeline\n",
    "nn = Pipeline([('scaler', StandardScaler()), ('mlp', MLPRegressor(early_stopping=True, max_iter=500, batch_size=32))])\n",
    "parameters = {'mlp__alpha': [0.01, 0.05, 0.1],\n",
    "              'mlp__activation': ('tanh', 'relu'),\n",
    "              'mlp__hidden_layer_sizes': ((128,), (64,64), (128,128))\n",
    "             }\n",
    "clf = GridSearchCV(nn, parameters, verbose=3, n_jobs=-1)\n",
    "clf.fit(x_etal, B_etal)\n",
    "clf.best_params_"
   ]
  },
  {
   "cell_type": "markdown",
   "metadata": {},
   "source": [
    "## Save results"
   ]
  },
  {
   "cell_type": "code",
   "execution_count": 15,
   "metadata": {},
   "outputs": [],
   "source": [
    "results = pd.concat([pd.DataFrame({'r2': gb_r2_etal_B, 'model': 'gb-B', 'target': 'B', 'dataset':'etal'}),\n",
    "                     pd.DataFrame({'r2': gb_r2_etal_G, 'model': 'gb-G', 'target': 'G', 'dataset':'etal'}),\n",
    "                     pd.DataFrame({'r2': rf_r2_etal_B, 'model': 'rf-B', 'target': 'B', 'dataset':'etal'}),\n",
    "                     pd.DataFrame({'r2': rf_r2_etal_G, 'model': 'rf-G', 'target': 'G', 'dataset':'etal'}),\n",
    "                     pd.DataFrame({'r2': gb_r2_rand_B, 'model': 'gb-B', 'target': 'B', 'dataset':'rand'}),\n",
    "                     pd.DataFrame({'r2': gb_r2_rand_G, 'model': 'gb-G', 'target': 'G', 'dataset':'rand'}),\n",
    "                     pd.DataFrame({'r2': rf_r2_rand_B, 'model': 'rf-B', 'target': 'B', 'dataset':'rand'}),\n",
    "                     pd.DataFrame({'r2': rf_r2_rand_G, 'model': 'rf-G', 'target': 'G', 'dataset':'rand'}),\n",
    "                    ], ignore_index=True)\n",
    "results.to_csv('./results/ML_r2.csv')"
   ]
  },
  {
   "cell_type": "code",
   "execution_count": 17,
   "metadata": {},
   "outputs": [
    {
     "data": {
      "text/html": [
       "<div>\n",
       "<style scoped>\n",
       "    .dataframe tbody tr th:only-of-type {\n",
       "        vertical-align: middle;\n",
       "    }\n",
       "\n",
       "    .dataframe tbody tr th {\n",
       "        vertical-align: top;\n",
       "    }\n",
       "\n",
       "    .dataframe thead th {\n",
       "        text-align: right;\n",
       "    }\n",
       "</style>\n",
       "<table border=\"1\" class=\"dataframe\">\n",
       "  <thead>\n",
       "    <tr style=\"text-align: right;\">\n",
       "      <th></th>\n",
       "      <th>Unnamed: 0</th>\n",
       "      <th>r2</th>\n",
       "      <th>model</th>\n",
       "      <th>target</th>\n",
       "      <th>dataset</th>\n",
       "    </tr>\n",
       "  </thead>\n",
       "  <tbody>\n",
       "    <tr>\n",
       "      <th>0</th>\n",
       "      <td>0</td>\n",
       "      <td>0.830714</td>\n",
       "      <td>gb-B</td>\n",
       "      <td>B</td>\n",
       "      <td>etal</td>\n",
       "    </tr>\n",
       "    <tr>\n",
       "      <th>1</th>\n",
       "      <td>1</td>\n",
       "      <td>0.830701</td>\n",
       "      <td>gb-B</td>\n",
       "      <td>B</td>\n",
       "      <td>etal</td>\n",
       "    </tr>\n",
       "    <tr>\n",
       "      <th>2</th>\n",
       "      <td>2</td>\n",
       "      <td>0.830531</td>\n",
       "      <td>gb-B</td>\n",
       "      <td>B</td>\n",
       "      <td>etal</td>\n",
       "    </tr>\n",
       "    <tr>\n",
       "      <th>3</th>\n",
       "      <td>3</td>\n",
       "      <td>0.830475</td>\n",
       "      <td>gb-B</td>\n",
       "      <td>B</td>\n",
       "      <td>etal</td>\n",
       "    </tr>\n",
       "    <tr>\n",
       "      <th>4</th>\n",
       "      <td>4</td>\n",
       "      <td>0.830579</td>\n",
       "      <td>gb-B</td>\n",
       "      <td>B</td>\n",
       "      <td>etal</td>\n",
       "    </tr>\n",
       "    <tr>\n",
       "      <th>...</th>\n",
       "      <td>...</td>\n",
       "      <td>...</td>\n",
       "      <td>...</td>\n",
       "      <td>...</td>\n",
       "      <td>...</td>\n",
       "    </tr>\n",
       "    <tr>\n",
       "      <th>235</th>\n",
       "      <td>235</td>\n",
       "      <td>0.745013</td>\n",
       "      <td>rf-G</td>\n",
       "      <td>G</td>\n",
       "      <td>rand</td>\n",
       "    </tr>\n",
       "    <tr>\n",
       "      <th>236</th>\n",
       "      <td>236</td>\n",
       "      <td>0.745099</td>\n",
       "      <td>rf-G</td>\n",
       "      <td>G</td>\n",
       "      <td>rand</td>\n",
       "    </tr>\n",
       "    <tr>\n",
       "      <th>237</th>\n",
       "      <td>237</td>\n",
       "      <td>0.744327</td>\n",
       "      <td>rf-G</td>\n",
       "      <td>G</td>\n",
       "      <td>rand</td>\n",
       "    </tr>\n",
       "    <tr>\n",
       "      <th>238</th>\n",
       "      <td>238</td>\n",
       "      <td>0.748836</td>\n",
       "      <td>rf-G</td>\n",
       "      <td>G</td>\n",
       "      <td>rand</td>\n",
       "    </tr>\n",
       "    <tr>\n",
       "      <th>239</th>\n",
       "      <td>239</td>\n",
       "      <td>0.746688</td>\n",
       "      <td>rf-G</td>\n",
       "      <td>G</td>\n",
       "      <td>rand</td>\n",
       "    </tr>\n",
       "  </tbody>\n",
       "</table>\n",
       "<p>240 rows × 5 columns</p>\n",
       "</div>"
      ],
      "text/plain": [
       "     Unnamed: 0        r2 model target dataset\n",
       "0             0  0.830714  gb-B      B    etal\n",
       "1             1  0.830701  gb-B      B    etal\n",
       "2             2  0.830531  gb-B      B    etal\n",
       "3             3  0.830475  gb-B      B    etal\n",
       "4             4  0.830579  gb-B      B    etal\n",
       "..          ...       ...   ...    ...     ...\n",
       "235         235  0.745013  rf-G      G    rand\n",
       "236         236  0.745099  rf-G      G    rand\n",
       "237         237  0.744327  rf-G      G    rand\n",
       "238         238  0.748836  rf-G      G    rand\n",
       "239         239  0.746688  rf-G      G    rand\n",
       "\n",
       "[240 rows x 5 columns]"
      ]
     },
     "execution_count": 17,
     "metadata": {},
     "output_type": "execute_result"
    }
   ],
   "source": [
    "results"
   ]
  },
  {
   "cell_type": "markdown",
   "metadata": {},
   "source": [
    "## Make plot"
   ]
  },
  {
   "cell_type": "code",
   "execution_count": 22,
   "metadata": {},
   "outputs": [
    {
     "data": {
      "text/plain": [
       "Text(0.5, 1.0, 'Bulk Modulus')"
      ]
     },
     "execution_count": 22,
     "metadata": {},
     "output_type": "execute_result"
    },
    {
     "data": {
      "image/png": "[encoded data removed]",
      "text/plain": [
       "<Figure size 640x480 with 1 Axes>"
      ]
     },
     "metadata": {},
     "output_type": "display_data"
    }
   ],
   "source": [
    "import seaborn as sns\n",
    "import matplotlib.pyplot as plt\n",
    "results = pd.read_csv('./results/ML_r2.csv')\n",
    "sns.set_theme(style=\"ticks\", palette='pastel', font_scale=1.5)\n",
    "sns.boxplot(x='model', y='r2', hue='dataset', data=results[(results['target'] == 'B')])\n",
    "plt.ylabel('R^2')\n",
    "plt.title('Bulk Modulus')\n",
    "# plt.savefig('./results/r2_B.svg', bbox_inches='tight')"
   ]
  },
  {
   "cell_type": "code",
   "execution_count": 23,
   "metadata": {},
   "outputs": [
    {
     "data": {
      "text/plain": [
       "Text(0.5, 1.0, 'Shear Modulus')"
      ]
     },
     "execution_count": 23,
     "metadata": {},
     "output_type": "execute_result"
    },
    {
     "data": {
      "image/png": "[encoded data removed]",
      "text/plain": [
       "<Figure size 640x480 with 1 Axes>"
      ]
     },
     "metadata": {},
     "output_type": "display_data"
    }
   ],
   "source": [
    "sns.set_theme(style=\"ticks\", palette='pastel', font_scale=1.5)\n",
    "sns.boxplot(x='model', y='r2', hue='dataset', data=results[(results['target'] == 'G')])\n",
    "plt.ylabel('R^2')\n",
    "plt.title('Shear Modulus')\n",
    "# plt.savefig('./results/r2_G.svg', bbox_inches='tight')"
   ]
  }
 ],
 "metadata": {
  "kernelspec": {
   "display_name": "Python 3.9.13 ('base')",
   "language": "python",
   "name": "python3"
  },
  "language_info": {
   "codemirror_mode": {
    "name": "ipython",
    "version": 3
   },
   "file_extension": ".py",
   "mimetype": "text/x-python",
   "name": "python",
   "nbconvert_exporter": "python",
   "pygments_lexer": "ipython3",
   "version": "3.9.13"
  },
  "orig_nbformat": 4,
  "vscode": {
   "interpreter": {
    "hash": "6f66a74a78460c2692b274b48ce17214f5eb55d57c3113b770dcb94e4d958ddf"
   }
  }
 },
 "nbformat": 4,
 "nbformat_minor": 2
}
